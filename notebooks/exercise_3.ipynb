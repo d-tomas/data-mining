{
  "nbformat": 4,
  "nbformat_minor": 0,
  "metadata": {
    "colab": {
      "private_outputs": true,
      "provenance": [],
      "toc_visible": true,
      "authorship_tag": "ABX9TyO5hHn0gBPUh+ngJEfIx8hw",
      "include_colab_link": true
    },
    "kernelspec": {
      "name": "python3",
      "display_name": "Python 3"
    }
  },
  "cells": [
    {
      "cell_type": "markdown",
      "metadata": {
        "id": "view-in-github",
        "colab_type": "text"
      },
      "source": [
        "<a href=\"https://colab.research.google.com/github/d-tomas/data-mining/blob/main/notebooks/exercise_3.ipynb\" target=\"_parent\"><img src=\"https://colab.research.google.com/assets/colab-badge.svg\" alt=\"Open In Colab\"/></a>"
      ]
    },
    {
      "cell_type": "markdown",
      "metadata": {
        "id": "KbXiowksSNs3"
      },
      "source": [
        "# Películas de IMDb\n"
      ]
    },
    {
      "cell_type": "markdown",
      "metadata": {
        "id": "34RknDhXQ6LI"
      },
      "source": [
        "Vamos a poner en práctica las funciones que hemos visto de tendencia central y dispersión."
      ]
    },
    {
      "cell_type": "markdown",
      "metadata": {
        "id": "OnvcISE_c97V"
      },
      "source": [
        "## Pasos previos"
      ]
    },
    {
      "cell_type": "code",
      "metadata": {
        "id": "ZsKmX-5V49-2"
      },
      "source": [
        "# Importamos las librerías de Python necesarias\n",
        "\n",
        "import pandas as pd\n",
        "from scipy import stats\n",
        "\n",
        "# Redondeamos las salidas a dos decimales\n",
        "%precision %.2f"
      ],
      "execution_count": null,
      "outputs": []
    },
    {
      "cell_type": "markdown",
      "metadata": {
        "id": "lySsq8wARNso"
      },
      "source": [
        "Vamos a trabajar con un conjunto de datos en formato CSV que contiene estadísticas sobre 85.855 películas de [IMDB](https://www.imdb.com/).\n",
        "\n",
        "Cada fila contiene la siguiente información:\n",
        "\n",
        "* `imdb_title_id`: identificador de IMDb\n",
        "* `title`: título de la película\n",
        "* `original_title`: título original (normalmente coincide con el campo `title`, pero no siempre)\n",
        "* `year`: año de estreno\n",
        "* `date_published`: fecha de estreno\n",
        "* `genre`: género\n",
        "* `duration`: duración (en minutos)\n",
        "* `country`: país de la película\n",
        "* `language`: idioma original\n",
        "* `director`: nombre del director/a\n",
        "* `writer`: nombre del/la guionista\n",
        "* `production_company`: nombre de la productora\n",
        "* `actors`: nombres de los actores principales, separados por comas\n",
        "* `description`: breve descripción del argumento\n",
        "* `avg_vote`: puntuación de los usuarios (de 0 a 10)\n",
        "* `votes`: número de votos recibidos\n",
        "* `budget`: presupuesto\n",
        "* `usa_gross_income`: recaudación en EE.UU.\n",
        "* `worlwide_gross_income`: recaudación a nivel mundial\n",
        "* `metascore`: puntuación de los críticos (de 0 a 100)\n",
        "* `reviews_from_users`: número de opiniones de los usuarios\n",
        "* `reviews_from_critics`: número de opiniones de los críticos\n"
      ]
    },
    {
      "cell_type": "code",
      "metadata": {
        "id": "-vuzvuWIIBE7"
      },
      "source": [
        "# Obtención del fichero CSV con los datos\n",
        "\n",
        "!wget https://github.com/d-tomas/data-mining/raw/main/datasets/imdb.tgz\n",
        "!tar xvfz imdb.tgz\n",
        "!rm imdb.tgz"
      ],
      "execution_count": null,
      "outputs": []
    },
    {
      "cell_type": "code",
      "metadata": {
        "id": "kz4Q-kIkYrBi"
      },
      "source": [
        "# Cargamos los datos en formato CSV\n",
        "\n",
        "data = pd.read_csv('imdb.csv', index_col='imdb_title_id')\n",
        "data"
      ],
      "execution_count": null,
      "outputs": []
    },
    {
      "cell_type": "markdown",
      "metadata": {
        "id": "cC9hGBbEHar1"
      },
      "source": [
        "## Un poco de limpieza inicial"
      ]
    },
    {
      "cell_type": "code",
      "metadata": {
        "id": "665p0yIcuD8J"
      },
      "source": [
        "# Vamos a ver los tipos de datos de cada columna\n",
        "\n",
        "data.info()"
      ],
      "execution_count": null,
      "outputs": []
    },
    {
      "cell_type": "code",
      "metadata": {
        "id": "O7dp8qNmHdwg"
      },
      "source": [
        "# Renombra la columna 'worlwide_gross_income' como 'worldwide_gross_income'\n",
        "data.rename(columns={'worlwide_gross_income': 'worldwide_gross_income'}, inplace=True)\n",
        "\n",
        "# Transformar a valor numérico el año\n",
        "data['year'] = pd.to_numeric(data['year'], errors='coerce')\n",
        "\n",
        "# Transforma 'worldwide_gross_income' a numérico\n",
        "data['worldwide_gross_income'] = pd.to_numeric(data['worldwide_gross_income'].str.split(' ').str[-1], errors='coerce')"
      ],
      "execution_count": null,
      "outputs": []
    },
    {
      "cell_type": "markdown",
      "metadata": {
        "id": "o2syHpAbZXfV"
      },
      "source": [
        "## Ejercicios"
      ]
    },
    {
      "cell_type": "markdown",
      "metadata": {
        "id": "hzVkzuq0gyql"
      },
      "source": [
        "**1.** ¿Cuánto dura (`duration`) la película más corta?"
      ]
    },
    {
      "cell_type": "code",
      "metadata": {
        "id": "IK7TfGBvZ7xC"
      },
      "source": [],
      "execution_count": null,
      "outputs": []
    },
    {
      "cell_type": "markdown",
      "metadata": {
        "id": "UVoMunfMg45F"
      },
      "source": [
        "**2.** ¿Cuál es el título (`title`) de la película más larga (`duration`)?"
      ]
    },
    {
      "cell_type": "code",
      "metadata": {
        "id": "R_P1DAikaF-F"
      },
      "source": [],
      "execution_count": null,
      "outputs": []
    },
    {
      "cell_type": "markdown",
      "metadata": {
        "id": "e5eUMYBOhiM-"
      },
      "source": [
        "**3.** ¿Cuántas películas tienen vacía la puntuación de los críticos (`metascore`)?"
      ]
    },
    {
      "cell_type": "code",
      "metadata": {
        "id": "ZucB5ocedSwb"
      },
      "source": [],
      "execution_count": null,
      "outputs": []
    },
    {
      "cell_type": "markdown",
      "metadata": {
        "id": "Sbf2hAf2hDCT"
      },
      "source": [
        "**4.** ¿Cuál es la puntuación media de los críticos (`metascore`) para todas las películas?"
      ]
    },
    {
      "cell_type": "code",
      "metadata": {
        "id": "XdhiCHCRaRnQ"
      },
      "source": [],
      "execution_count": null,
      "outputs": []
    },
    {
      "cell_type": "markdown",
      "metadata": {
        "id": "imPn0t5mhHUF"
      },
      "source": [
        "**5.** ¿Y la puntuación media de los usuarios (`avg_vote`)?"
      ]
    },
    {
      "cell_type": "code",
      "metadata": {
        "id": "GIug2OcHatzF"
      },
      "source": [],
      "execution_count": null,
      "outputs": []
    },
    {
      "cell_type": "markdown",
      "metadata": {
        "id": "p4lBdOsVhnxU"
      },
      "source": [
        "**6.** ¿Cuál es el rango intercuartil de la puntuación de los usuarios (`avg_vote`)?"
      ]
    },
    {
      "cell_type": "code",
      "metadata": {
        "id": "7uS-jR6-d-Ot"
      },
      "source": [],
      "execution_count": null,
      "outputs": []
    },
    {
      "cell_type": "markdown",
      "metadata": {
        "id": "HtOtrtQFhZNy"
      },
      "source": [
        "**7.** ¿Cuántas películas han conseguido una puntuación de los usuarios (`avg_vote`) superior a 9?"
      ]
    },
    {
      "cell_type": "code",
      "metadata": {
        "id": "VVESbUh_b_pA"
      },
      "source": [],
      "execution_count": null,
      "outputs": []
    },
    {
      "cell_type": "markdown",
      "metadata": {
        "id": "tNwGuw6ihVZg"
      },
      "source": [
        "**8.** ¿Qué director (`director`) ha dirigido más películas?"
      ]
    },
    {
      "cell_type": "code",
      "metadata": {
        "id": "XkyYSt61bH39"
      },
      "source": [],
      "execution_count": null,
      "outputs": []
    },
    {
      "cell_type": "markdown",
      "metadata": {
        "id": "TK8PBIHQhq7G"
      },
      "source": [
        "**9.** ¿Cuántas películas hay con el mismo título (`title`) y año (`year`) de estreno?"
      ]
    },
    {
      "cell_type": "code",
      "metadata": {
        "id": "mhfEBh9TekWa"
      },
      "source": [],
      "execution_count": null,
      "outputs": []
    },
    {
      "cell_type": "markdown",
      "metadata": {
        "id": "NPeISa-BhvUG"
      },
      "source": [
        "**10.** ¿Qué película tiene la puntuación más alta de los usuarios (`avg_vote`)?"
      ]
    },
    {
      "cell_type": "code",
      "metadata": {
        "id": "JgCVtKAaa6r-"
      },
      "source": [],
      "execution_count": null,
      "outputs": []
    },
    {
      "cell_type": "markdown",
      "metadata": {
        "id": "NEDLNd83h-36"
      },
      "source": [
        "**11.** ¿Cuál es la película más reciente que ha obtenido una puntuación de 100 de los críticos (`metascore`)?"
      ]
    },
    {
      "cell_type": "code",
      "metadata": {
        "id": "sbDJ4Qosf0LX"
      },
      "source": [],
      "execution_count": null,
      "outputs": []
    },
    {
      "cell_type": "markdown",
      "metadata": {
        "id": "U-bz7TbMibUY"
      },
      "source": [
        "**12.** ¿Cuál es la recaudación media mundial (`worldwide_gross_income`) para las películas anteriores a 1950?"
      ]
    },
    {
      "cell_type": "code",
      "metadata": {
        "id": "xxD-PLDhjQLq"
      },
      "source": [],
      "execution_count": null,
      "outputs": []
    },
    {
      "cell_type": "markdown",
      "metadata": {
        "id": "i6HBHIsZqjTC"
      },
      "source": [
        "**13.** ¿Cuál es la desviación estándar de la puntuación de los críticos (`metascore`)?"
      ]
    },
    {
      "cell_type": "code",
      "metadata": {
        "id": "hVYGR0Kaqh76"
      },
      "source": [],
      "execution_count": null,
      "outputs": []
    },
    {
      "cell_type": "markdown",
      "metadata": {
        "id": "-rPErU_Rqx1N"
      },
      "source": [
        "**14.** ¿Cuál es la desviación estándar de la puntuación (`avg_vote`) de los usuarios (multiplícala por 10 para estar en la misma escala que la de los críticos)?"
      ]
    },
    {
      "cell_type": "code",
      "metadata": {
        "id": "GP4rniIwqxIl"
      },
      "source": [],
      "execution_count": null,
      "outputs": []
    },
    {
      "cell_type": "markdown",
      "metadata": {
        "id": "THEYmMr5FM46"
      },
      "source": [
        "**15.** ¿Cuál de las dos distribuciones, `metascore` o `avg_vote` tiene mayor asimetría (en valor absoluto)?"
      ]
    },
    {
      "cell_type": "code",
      "metadata": {
        "id": "1Z8Wl0CODsZx"
      },
      "source": [],
      "execution_count": null,
      "outputs": []
    },
    {
      "cell_type": "markdown",
      "metadata": {
        "id": "8XF_O80aVUuU"
      },
      "source": [
        "# Referencias\n",
        "\n",
        "* [IMDb movies extensive dataset](https://www.kaggle.com/stefanoleone992/imdb-extensive-dataset)"
      ]
    }
  ]
}