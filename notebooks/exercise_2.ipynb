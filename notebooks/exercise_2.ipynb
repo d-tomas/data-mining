{
  "nbformat": 4,
  "nbformat_minor": 0,
  "metadata": {
    "colab": {
      "private_outputs": true,
      "provenance": [],
      "authorship_tag": "ABX9TyOq8yIOSfpxBESqlm0uPyjh",
      "include_colab_link": true
    },
    "kernelspec": {
      "name": "python3",
      "display_name": "Python 3"
    }
  },
  "cells": [
    {
      "cell_type": "markdown",
      "metadata": {
        "id": "view-in-github",
        "colab_type": "text"
      },
      "source": [
        "<a href=\"https://colab.research.google.com/github/d-tomas/data-mining/blob/main/notebooks/exercise_2.ipynb\" target=\"_parent\"><img src=\"https://colab.research.google.com/assets/colab-badge.svg\" alt=\"Open In Colab\"/></a>"
      ]
    },
    {
      "cell_type": "markdown",
      "metadata": {
        "id": "GYswp4cAuuBV"
      },
      "source": [
        "# Ejercicio: limpieza y preparación de los datos"
      ]
    },
    {
      "cell_type": "code",
      "metadata": {
        "id": "ZtKcUvuluiV5"
      },
      "source": [
        "# Pasos previos\n",
        "\n",
        "import pandas as pd"
      ],
      "execution_count": null,
      "outputs": []
    },
    {
      "cell_type": "markdown",
      "metadata": {
        "id": "vJ5AjdHy5vQK"
      },
      "source": [
        "**1**. Carga el fichero 'https://raw.githubusercontent.com/d-tomas/data-mining/main/datasets/metal_bands.csv' en un DataFrame, haciendo que la primera columna sea el índice"
      ]
    },
    {
      "cell_type": "code",
      "metadata": {
        "id": "wSPlERpr6T47"
      },
      "source": [],
      "execution_count": null,
      "outputs": []
    },
    {
      "cell_type": "markdown",
      "metadata": {
        "id": "saDsmFWQvfEL"
      },
      "source": [
        "**2.** Muestra por pantalla un resumen de los datos con 'info'"
      ]
    },
    {
      "cell_type": "code",
      "metadata": {
        "id": "KbExU517v1WO"
      },
      "source": [],
      "execution_count": null,
      "outputs": []
    },
    {
      "cell_type": "markdown",
      "metadata": {
        "id": "RcimoyJqyxtL"
      },
      "source": [
        "**3.** Muestra por pantalla las estadísticas de la columna `fans` (usando el método `describe`)"
      ]
    },
    {
      "cell_type": "code",
      "metadata": {
        "id": "53etPABNyxDC"
      },
      "source": [],
      "execution_count": null,
      "outputs": []
    },
    {
      "cell_type": "markdown",
      "metadata": {
        "id": "0Q0d67Y27VHb"
      },
      "source": [
        "**4.** Calcula cuántas bandas son de cada país y muestra el top 10 de países"
      ]
    },
    {
      "cell_type": "code",
      "metadata": {
        "id": "30UEaPZ27dBO"
      },
      "source": [],
      "execution_count": null,
      "outputs": []
    },
    {
      "cell_type": "markdown",
      "metadata": {
        "id": "Yn68HhSz73bE"
      },
      "source": [
        "**5.** Muestra la lista de países, sin repetir. ¿Cuántos hay?"
      ]
    },
    {
      "cell_type": "code",
      "metadata": {
        "id": "TqBwWJ7z7jkQ"
      },
      "source": [],
      "execution_count": null,
      "outputs": []
    },
    {
      "cell_type": "markdown",
      "metadata": {
        "id": "ZpLbHAKd8cfK"
      },
      "source": [
        "**6.** Muestra el nombre de las 50 bandas con más fans que entre sus estilos esté el 'Death'\n",
        "\n",
        "**Pista**: https://pandas.pydata.org/pandas-docs/stable/reference/api/pandas.Series.str.contains.html\n"
      ]
    },
    {
      "cell_type": "code",
      "metadata": {
        "id": "3cXyqvmC8b5h"
      },
      "source": [],
      "execution_count": null,
      "outputs": []
    },
    {
      "cell_type": "markdown",
      "metadata": {
        "id": "EiJuJ5As9hi6"
      },
      "source": [
        "**7.** ¿Cuántas bandas se han formado en la década de 1980 a 1990 (ambos incluídos)?\n",
        "\n",
        "**Pista:** puedes usar el operador `&`"
      ]
    },
    {
      "cell_type": "code",
      "metadata": {
        "id": "KZ6ozWUH8AUf"
      },
      "source": [],
      "execution_count": null,
      "outputs": []
    },
    {
      "cell_type": "markdown",
      "metadata": {
        "id": "0T769Yor_X8U"
      },
      "source": [
        "**8.** Muestra las bandas que no tienen país de origen"
      ]
    },
    {
      "cell_type": "code",
      "metadata": {
        "id": "ATVX0IUS_XT0"
      },
      "source": [],
      "execution_count": null,
      "outputs": []
    },
    {
      "cell_type": "markdown",
      "metadata": {
        "id": "5rfPYjR6_kzE"
      },
      "source": [
        "**9.** Muestra bandas que tengan el mismo nombre y se hayan formado el mismo año y en el mismo país"
      ]
    },
    {
      "cell_type": "code",
      "metadata": {
        "id": "ahU8RZXg9ztU"
      },
      "source": [],
      "execution_count": null,
      "outputs": []
    },
    {
      "cell_type": "markdown",
      "metadata": {
        "id": "aKlx_QDQBmo1"
      },
      "source": [
        "**10.** Elimina los valores para bandas con el nombre duplicado"
      ]
    },
    {
      "cell_type": "code",
      "metadata": {
        "id": "CfGgHHYsBl9i"
      },
      "source": [],
      "execution_count": null,
      "outputs": []
    }
  ]
}