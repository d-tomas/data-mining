{
  "nbformat": 4,
  "nbformat_minor": 0,
  "metadata": {
    "colab": {
      "provenance": [],
      "toc_visible": true,
      "authorship_tag": "ABX9TyOY8jCjbAzgbk1Ya728mWrj",
      "include_colab_link": true
    },
    "kernelspec": {
      "name": "python3",
      "display_name": "Python 3"
    }
  },
  "cells": [
    {
      "cell_type": "markdown",
      "metadata": {
        "id": "view-in-github",
        "colab_type": "text"
      },
      "source": [
        "<a href=\"https://colab.research.google.com/github/d-tomas/data-mining/blob/main/notebooks/data_mining_1.1.ipynb\" target=\"_parent\"><img src=\"https://colab.research.google.com/assets/colab-badge.svg\" alt=\"Open In Colab\"/></a>"
      ]
    },
    {
      "cell_type": "markdown",
      "metadata": {
        "id": "G1qcMmkffPbV"
      },
      "source": [
        "# Un repaso a Colab\n",
        "\n",
        "Este cuaderno realiza un repaso de las principales funcionalidades de Google Colab:\n",
        "* Cómo interactuar con el shell\n",
        "* Cómo acceder a ficheros de Drive, web y en nuestra máquina\n",
        "* Comandos mágicos\n",
        "* Algunas características adicionales"
      ]
    },
    {
      "cell_type": "code",
      "metadata": {
        "id": "yy7OD605v2Tj"
      },
      "source": [
        "# El Zen de Python\n",
        "\n",
        "import this"
      ],
      "execution_count": null,
      "outputs": []
    },
    {
      "cell_type": "markdown",
      "metadata": {
        "id": "mYXste_ugRlj"
      },
      "source": [
        "## Interactuando con el *shell*\n",
        "\n",
        "Recuerda que estás ejecutando todo tu código en una máquina remota con un Linux corriendo por debajo. Podemos ejecutar instrucciones por línea de comando en el servidor como si estuviéramos en un terminal."
      ]
    },
    {
      "cell_type": "code",
      "metadata": {
        "id": "yJH_KoOfgpdW"
      },
      "source": [
        "# Puedes ejecutar comandos de shell en el servidor remoto\n",
        "\n",
        "!uname -a"
      ],
      "execution_count": null,
      "outputs": []
    },
    {
      "cell_type": "code",
      "metadata": {
        "id": "UkR8_qMsnqQW"
      },
      "source": [
        "# Otro ejemplo\n",
        "\n",
        "!python --version"
      ],
      "execution_count": null,
      "outputs": []
    },
    {
      "cell_type": "code",
      "metadata": {
        "id": "Inuf-nOynulF"
      },
      "source": [
        "# Muy interesante, poder instalar nuevas librerías\n",
        "\n",
        "!pip install python-Levenshtein"
      ],
      "execution_count": null,
      "outputs": []
    },
    {
      "cell_type": "code",
      "metadata": {
        "id": "nYO2Rq0bhQBl"
      },
      "source": [
        "# Los comandos de shell pueden interactuar con el código de Python\n",
        "\n",
        "content = !ls -lh\n",
        "print(content)"
      ],
      "execution_count": null,
      "outputs": []
    },
    {
      "cell_type": "code",
      "metadata": {
        "id": "IC-cSeyBh14d"
      },
      "source": [
        "# Devuelve un tipo de lista especial 'SList'\n",
        "\n",
        "type(content)"
      ],
      "execution_count": null,
      "outputs": []
    },
    {
      "cell_type": "code",
      "metadata": {
        "id": "qKxJsTKCiaNP"
      },
      "source": [
        "# Tiene sus propios métodos\n",
        "\n",
        "print(content.n)  # Transforma el resultado a cadena de texto"
      ],
      "execution_count": null,
      "outputs": []
    },
    {
      "cell_type": "code",
      "metadata": {
        "id": "tWybmCRsj1vN"
      },
      "source": [
        "# ¡Y también funciona en la otra dirección! Hay que usar '{}'\n",
        "\n",
        "message = '¡Hola mundo!'\n",
        "!echo {message}"
      ],
      "execution_count": null,
      "outputs": []
    },
    {
      "cell_type": "markdown",
      "metadata": {
        "id": "w9cqpvxk1QBZ"
      },
      "source": [
        "## Acceso a ficheros\n",
        "\n",
        "Desde el espacio de Colab podemos leer y escribir ficheros en nuestro Google Drive y en nuestra máquina local. También podemos descargar ficheros de la web ejecutando programas como *wget* o *curl*."
      ]
    },
    {
      "cell_type": "markdown",
      "metadata": {
        "id": "nyCz9v8ks_f8"
      },
      "source": [
        "### Drive"
      ]
    },
    {
      "cell_type": "code",
      "metadata": {
        "id": "dEgRVoR5s0rF"
      },
      "source": [
        "# Esto también se puede hacer con el botón 'Activar Drive' de la pestaña de archivos\n",
        "\n",
        "from google.colab import drive\n",
        "\n",
        "drive.mount('./drive')"
      ],
      "execution_count": null,
      "outputs": []
    },
    {
      "cell_type": "markdown",
      "metadata": {
        "id": "fy6yC3fl1V5A"
      },
      "source": [
        "### Web"
      ]
    },
    {
      "cell_type": "code",
      "metadata": {
        "id": "f9YMzhKB1YqP"
      },
      "source": [
        "# Podemos usar 'wget' desde línea de comando\n",
        "\n",
        "!wget https://web.ua.es/secciones-ua/images/layout/logo-ua.jpg"
      ],
      "execution_count": null,
      "outputs": []
    },
    {
      "cell_type": "markdown",
      "metadata": {
        "id": "uozvWe0n1Y-f"
      },
      "source": [
        "### Fichero local\n"
      ]
    },
    {
      "cell_type": "code",
      "metadata": {
        "id": "O1jjE_Z7phm9"
      },
      "source": [
        "# Hay que cargar la librería de Colab para manejo de ficheros\n",
        "\n",
        "from google.colab import files"
      ],
      "execution_count": null,
      "outputs": []
    },
    {
      "cell_type": "code",
      "metadata": {
        "id": "TDdXRXXoeH5I"
      },
      "source": [
        "# También podemos usar el botón 'Carga de archivos' de la pestaña de archivos\n",
        "\n",
        "files.upload()"
      ],
      "execution_count": null,
      "outputs": []
    },
    {
      "cell_type": "code",
      "metadata": {
        "id": "JZUSyIgCp4bx"
      },
      "source": [
        "# También podemos seleccionar 'Descargar' en la pestaña de archivos\n",
        "\n",
        "files.download('logo-ua.jpg')"
      ],
      "execution_count": null,
      "outputs": []
    },
    {
      "cell_type": "markdown",
      "metadata": {
        "id": "tOdTPUoYq6M8"
      },
      "source": [
        "## Comandos mágicos\n",
        "\n",
        "Son mejoras a la sintaxis normal de Python que están disponibles en Colab. Proporcionan funciones y atajos útiles para tareas comunes. Los reconocerás porque van precedidas del signo de porcentaje `%`."
      ]
    },
    {
      "cell_type": "markdown",
      "metadata": {
        "id": "tAC71pBSdOYP"
      },
      "source": [
        "### Comandos de bloque"
      ]
    },
    {
      "cell_type": "code",
      "metadata": {
        "id": "Fe_PDFaofvnG"
      },
      "source": [
        "# Escribir el contenido de la celda a un fichero llamado 'countdown.py'\n",
        "\n",
        "%%writefile countdown.py\n",
        "for i in range(10, -1, -1):\n",
        "  print(i)"
      ],
      "execution_count": null,
      "outputs": []
    },
    {
      "cell_type": "code",
      "metadata": {
        "id": "w8928wFmehQ4"
      },
      "source": [
        "# Calcular el tiempo de ejcución de una celda. Tiene también opción de línea '%timeit'\n",
        "\n",
        "%%timeit\n",
        "for i in range(1, 5000000):\n",
        "  i**2"
      ],
      "execution_count": null,
      "outputs": []
    },
    {
      "cell_type": "code",
      "metadata": {
        "id": "wVQAT_LDsyWs"
      },
      "source": [
        "# Podemos insertar HTML en celdas de código con '%%html':\n",
        "\n",
        "%%html\n",
        "<iframe width=\"560\" height=\"315\" src=\"https://www.youtube.com/embed/1A-Nf3QIJjM\" frameborder=\"0\" allow=\"accelerometer; autoplay; clipboard-write; encrypted-media; gyroscope; picture-in-picture\" allowfullscreen></iframe>\n"
      ],
      "execution_count": null,
      "outputs": []
    },
    {
      "cell_type": "markdown",
      "metadata": {
        "id": "Dd3Jd1HkdCbf"
      },
      "source": [
        "### Comandos de línea"
      ]
    },
    {
      "cell_type": "code",
      "metadata": {
        "id": "nNObhiafd9l7"
      },
      "source": [
        "# Mostrar todas las funciones mágicas disponibles\n",
        "\n",
        "%lsmagic"
      ],
      "execution_count": null,
      "outputs": []
    },
    {
      "cell_type": "code",
      "metadata": {
        "id": "loH7N6-Hh0BX"
      },
      "source": [
        "# Ejecutar un fichero de código\n",
        "\n",
        "%run countdown.py"
      ],
      "execution_count": null,
      "outputs": []
    },
    {
      "cell_type": "code",
      "metadata": {
        "id": "mR8t8dfLdyZq"
      },
      "source": [
        "# Mostrar todas las variables de entorno\n",
        "\n",
        "%env"
      ],
      "execution_count": null,
      "outputs": []
    },
    {
      "cell_type": "code",
      "metadata": {
        "id": "IczvdiGcfOoj"
      },
      "source": [
        "# Mostrar todas las variables interactivas del notebook\n",
        "\n",
        "a = 34\n",
        "b = 'hola'\n",
        "c = [3,4,6]\n",
        "\n",
        "%whos"
      ],
      "execution_count": null,
      "outputs": []
    },
    {
      "cell_type": "markdown",
      "source": [
        "## Características adicionales"
      ],
      "metadata": {
        "id": "A3mrKZaNy4t9"
      }
    },
    {
      "cell_type": "markdown",
      "source": [
        "Para finalizar, vamos a ver un par de trucos más que puedes hacer con Colab:\n",
        "\n",
        "* ¿Sabes lo que es el *historial de ejecución*? Te permite ver todo lo que has ejecutado en Colab durante la sesión. Puedes acceder a él en `Ver > Historial de código ejecutado`. Te mostrará tanto el código ejecutado como la salida producida. Puedes editar esas celdas en el propio historial y ejecutarlas sin que eso afecte al flujo de trabajo de tu cuaderno.\n",
        "\n",
        "* ¿Sabes lo que es una *celda temporal*? En el historial de código ejecutado, al inicio de cada celda, hay un icono como este: ![celda_temporal.png](data:image/png;base64,iVBORw0KGgoAAAANSUhEUgAAABoAAAAXCAYAAAAV1F8QAAAABHNCSVQICAgIfAhkiAAAABl0RVh0U29mdHdhcmUAZ25vbWUtc2NyZWVuc2hvdO8Dvz4AAAFtSURBVEiJzZWtjsJAFIW/blbVthZs0VjQyIFXIFg0PMNg0SCp5EcSJLXYMrY8A4OcVTSBUu7SJWSPaTP35H7t9PaM55xzfEBfn4D8GmStBSDLMowx+ZoxJq9dr5VBs9mM6XQKQBzHaK1zqNaaLMsAGA6HHA6H0j7fEigIAqIoAqDVauX3YRiilCIMQwCUUk/7eP9mGLTWLBYLsZHkK4DuP/Lb5O6Upqnr9/suTdP70p8kbt1qtWK/34sPLPlE0GazIUkSEST5xPEejUb4vi+CJJ8IArhcLnkiAPm/9IpE0GQyKazN5/OHviiKGI/H1UBKKay17HY70XdNiUcSh6HT6dxsW5l6vR7tdrsayFqL1prT6XSTc1AMVa012+22GiiO4xwyGAyo1Wqlg+D7Ps1ms7zZs2Q4n89uuVy+JRlKhyFJEowxeJ7Her1+9uIAdLvdp/UCqF6vEwTBr9LgFVDpeXQ8Hl8CNRqNaqB36wczjGhi530vdgAAAABJRU5ErkJggg==) Haz clic en él para abrir una celda temporal. Estas celdas puedes ejecutarlas para hacer pequeñas pruebas sin influir en el flujo de trabajo de tu cuaderno.\n",
        "\n",
        "* ¿Conoces la *paleta de comandos*? Accede a ella desde `Herramientas > Paleta de comandos`. ¡Pregúntale lo que quieras! Incluye todas las opciones de los menús de Colab. ¿No te acuerdas cómo crear una celda temporal? Simplemente escribe \"celda temporal\" en el cuadro de búsqueda y te lo hará. ¡Prueba!"
      ],
      "metadata": {
        "id": "SFIcXWhM1ZVo"
      }
    },
    {
      "cell_type": "markdown",
      "metadata": {
        "id": "Br0v3FZ-qGMa"
      },
      "source": [
        "# Referencias\n",
        "\n",
        "* [Tipo SList](https://ipython.readthedocs.io/en/stable/api/generated/IPython.utils.text.html#IPython.utils.text.SList)\n",
        "* [Comandos mágicos](https://colab.research.google.com/github/jakevdp/PythonDataScienceHandbook/blob/master/notebooks/01.03-Magic-Commands.ipynb)\n",
        "* [Google Colab features you may have missed](https://youtu.be/rNgswRZ2C1Y?si=KZSl0HwFNHTLz5VX)"
      ]
    }
  ]
}