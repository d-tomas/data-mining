{
  "nbformat": 4,
  "nbformat_minor": 0,
  "metadata": {
    "kernelspec": {
      "display_name": "Python 3",
      "language": "python",
      "name": "python3"
    },
    "language_info": {
      "codemirror_mode": {
        "name": "ipython",
        "version": 3
      },
      "file_extension": ".py",
      "mimetype": "text/x-python",
      "name": "python",
      "nbconvert_exporter": "python",
      "pygments_lexer": "ipython3",
      "version": "3.6.0"
    },
    "colab": {
      "provenance": [],
      "toc_visible": true,
      "include_colab_link": true
    }
  },
  "cells": [
    {
      "cell_type": "markdown",
      "metadata": {
        "id": "view-in-github",
        "colab_type": "text"
      },
      "source": [
        "<a href=\"https://colab.research.google.com/github/d-tomas/data-mining/blob/main/notebooks/data_mining_3.2.ipynb\" target=\"_parent\"><img src=\"https://colab.research.google.com/assets/colab-badge.svg\" alt=\"Open In Colab\"/></a>"
      ]
    },
    {
      "cell_type": "markdown",
      "metadata": {
        "deletable": true,
        "editable": true,
        "id": "Kl5m_SKaJfrb"
      },
      "source": [
        "# Una historia con datos"
      ]
    },
    {
      "cell_type": "markdown",
      "metadata": {
        "id": "OnvcISE_c97V"
      },
      "source": [
        "## Pasos previos"
      ]
    },
    {
      "cell_type": "code",
      "metadata": {
        "id": "ZsKmX-5V49-2"
      },
      "source": [
        "# Importamos las librerías de Python necesarias\n",
        "\n",
        "import matplotlib.pyplot as plt\n",
        "import pandas as pd\n",
        "import seaborn as sns"
      ],
      "execution_count": null,
      "outputs": []
    },
    {
      "cell_type": "markdown",
      "metadata": {
        "id": "lySsq8wARNso"
      },
      "source": [
        "Vamos a trabajar con un conjunto de datos en formato CSV que contiene estadísticas sobre nombres de niños y niñas en estados unidos, desde 1880 a 2010.\n",
        "\n",
        "Cada fila contiene la siguiente información (el nombre de cada columna no aparece en el CSV):\n",
        "\n",
        "* `name`: nombre entre 2 y 15 caracteres\n",
        "* `sex`: M (niño) o F (niña)\n",
        "* `births`: número de nacimientos con ese nombre en el año"
      ]
    },
    {
      "cell_type": "code",
      "metadata": {
        "id": "-vuzvuWIIBE7"
      },
      "source": [
        "# Obtención del fichero CSV con los datos\n",
        "\n",
        "!wget https://github.com/d-tomas/data-mining/raw/main/datasets/babynames.tgz\n",
        "!tar xvfz babynames.tgz\n",
        "!rm babynames.tgz"
      ],
      "execution_count": null,
      "outputs": []
    },
    {
      "cell_type": "markdown",
      "metadata": {
        "id": "jn2WNvNkmdeK"
      },
      "source": [
        "## Análisis inicial"
      ]
    },
    {
      "cell_type": "code",
      "metadata": {
        "id": "kz4Q-kIkYrBi"
      },
      "source": [
        "# A ver qué pinta tienen los datos\n",
        "\n",
        "!head -n 10 babynames/yob1880.txt"
      ],
      "execution_count": null,
      "outputs": []
    },
    {
      "cell_type": "code",
      "metadata": {
        "deletable": true,
        "editable": true,
        "id": "63mEgdDgJfr9"
      },
      "source": [
        "# Empezamos analizando los datos de 1880\n",
        "\n",
        "names1880 = pd.read_csv('babynames/yob1880.txt', names=['name', 'sex', 'births'])\n",
        "names1880"
      ],
      "execution_count": null,
      "outputs": []
    },
    {
      "cell_type": "code",
      "metadata": {
        "deletable": true,
        "editable": true,
        "id": "ZF-UMBcZJfr9"
      },
      "source": [
        "# Número de niños y niñas que nacieron en 1880\n",
        "\n",
        "names1880.groupby('sex')['births'].sum()"
      ],
      "execution_count": null,
      "outputs": []
    },
    {
      "cell_type": "code",
      "metadata": {
        "deletable": true,
        "editable": true,
        "id": "j95_MHZJJfr9"
      },
      "source": [
        "# Construimos un DataFrame con toda la información de todos los años\n",
        "\n",
        "years = range(1880, 2011)\n",
        "columns = ['name', 'sex', 'births']\n",
        "list_df = []\n",
        "\n",
        "for year in years:\n",
        "  path = 'babynames/yob%d.txt' % year\n",
        "  df = pd.read_csv(path, names=columns)\n",
        "  df['year'] = year\n",
        "  list_df.append(df)\n",
        "\n",
        "# Se concatenan todos los DataFrame en uno solo\n",
        "data = pd.concat(list_df, ignore_index=True)\n",
        "data"
      ],
      "execution_count": null,
      "outputs": []
    },
    {
      "cell_type": "code",
      "metadata": {
        "deletable": true,
        "editable": true,
        "id": "hTQhF4HKJfr-"
      },
      "source": [
        "# Creamos una tabla que resume el número de nacimientos, para niños y niñas, en cada año\n",
        "\n",
        "total_births = data.pivot_table(values='births', index='year', columns='sex', aggfunc=sum)\n",
        "total_births"
      ],
      "execution_count": null,
      "outputs": []
    },
    {
      "cell_type": "code",
      "metadata": {
        "id": "sj3k5joDP77o"
      },
      "source": [
        "# Mostramos un diagrama de líneas para ver la evolución de nacimientos en el tiempo\n",
        "\n",
        "plt.figure(figsize=(10, 5))\n",
        "sns.lineplot(data=total_births)\n",
        "plt.show()"
      ],
      "execution_count": null,
      "outputs": []
    },
    {
      "cell_type": "code",
      "metadata": {
        "deletable": true,
        "editable": true,
        "id": "WFZari-dJfr-"
      },
      "source": [
        "# Calculamos el porcentaje de nacimientos que tuvieron ese nombre para niños y niñas\n",
        "\n",
        "def add_prop(group):\n",
        "  group['prop'] = group['births'] / group['births'].sum()\n",
        "  return group\n",
        "\n",
        "data = data.groupby(['year', 'sex']).apply(add_prop)\n",
        "data = data.drop(columns=['year','sex'])  # Eliminar las columnas que ahora están como índice\n",
        "data"
      ],
      "execution_count": null,
      "outputs": []
    },
    {
      "cell_type": "code",
      "metadata": {
        "deletable": true,
        "editable": true,
        "id": "tXjHtNBkJfr-"
      },
      "source": [
        "# Comprobamos que la suma de los valores anteriores es 1 para todos los años y sexo\n",
        "\n",
        "data.groupby(['year', 'sex'])['prop'].sum()"
      ],
      "execution_count": null,
      "outputs": []
    },
    {
      "cell_type": "code",
      "metadata": {
        "deletable": true,
        "editable": true,
        "id": "3esUOSNrJfr-"
      },
      "source": [
        "# Nos quedamos con los mil nombres más populares de niño y niña para cada año\n",
        "\n",
        "def get_top1000(group):\n",
        "    return group.sort_values(by='births', ascending=False)[:1000]\n",
        "\n",
        "top1000 = data.groupby(['year', 'sex']).apply(get_top1000)\n",
        "top1000 = top1000.reset_index(level=[0, 1], drop=True)  # Para evitar índices duplicados\n",
        "top1000"
      ],
      "execution_count": null,
      "outputs": []
    },
    {
      "cell_type": "markdown",
      "metadata": {
        "deletable": true,
        "editable": true,
        "id": "YVp_LgAZJfr_"
      },
      "source": [
        "## Tendencia de los nombres"
      ]
    },
    {
      "cell_type": "code",
      "metadata": {
        "deletable": true,
        "editable": true,
        "id": "cXPd_vYtJfr_"
      },
      "source": [
        "# Creamos una tabla resumen con el número de nacimientos para los nombres más populares en el top 1000 para cada año\n",
        "\n",
        "total_births = top1000.pivot_table(values='births', index='year', columns='name', aggfunc=sum)\n",
        "total_births"
      ],
      "execution_count": null,
      "outputs": []
    },
    {
      "cell_type": "code",
      "metadata": {
        "deletable": true,
        "editable": true,
        "id": "IxXwHoGoJfr_"
      },
      "source": [
        "# Mostramos un diagrama de líneas con la evolución de cuatro de los nombres\n",
        "\n",
        "plt.figure(figsize=(10, 5))\n",
        "sns.lineplot(data=total_births[['John', 'Harry', 'Mary', 'Marilyn']])\n",
        "plt.show()"
      ],
      "execution_count": null,
      "outputs": []
    },
    {
      "cell_type": "markdown",
      "metadata": {
        "deletable": true,
        "editable": true,
        "id": "vBNJhRXkJfsA"
      },
      "source": [
        "## Midiendo la diversidad de nombres"
      ]
    },
    {
      "cell_type": "code",
      "metadata": {
        "deletable": true,
        "editable": true,
        "id": "djhRPluvJfsA"
      },
      "source": [
        "# Calculamos el porcentaje de nombres que supone sobre el total los 1000 primeros\n",
        "# Esto muestra la diversidad de nombres que han ido apareciendo\n",
        "\n",
        "table = top1000.pivot_table(values='prop', index='year', columns='sex', aggfunc=sum)\n",
        "\n",
        "plt.figure(figsize=(10, 5))\n",
        "sns.lineplot(data=table)\n",
        "plt.show()"
      ],
      "execution_count": null,
      "outputs": []
    },
    {
      "cell_type": "code",
      "metadata": {
        "deletable": true,
        "editable": true,
        "id": "fFnBtnqCJfsB"
      },
      "source": [
        "# Nombres de niños en el año 2010\n",
        "\n",
        "top1000.reset_index(inplace=True)\n",
        "boys = top1000[top1000['sex'] == 'M']  # Nos quedamos con los nombres de niños\n",
        "df = boys[boys['year'] == 2010]\n",
        "df"
      ],
      "execution_count": null,
      "outputs": []
    },
    {
      "cell_type": "code",
      "metadata": {
        "id": "1k87enFqtZZe"
      },
      "source": [
        "# Calculamos cuántos nombres acumulan el 50% de los nacimientos\n",
        "\n",
        "prop_cumsum = df.sort_values(by='prop', ascending=False)['prop'].cumsum()\n",
        "prop_cumsum.values.searchsorted(0.5) + 1  # Busca en qué posición de la lista caería el valor 0.5"
      ],
      "execution_count": null,
      "outputs": []
    },
    {
      "cell_type": "code",
      "metadata": {
        "deletable": true,
        "editable": true,
        "id": "vOvc4e-lJfsB"
      },
      "source": [
        "# Repetimos el cálculo anterior pero para el año 1900\n",
        "\n",
        "df = boys[boys['year'] == 1900]\n",
        "prop_cumsum = df.sort_values(by='prop', ascending=False)['prop'].cumsum()\n",
        "prop_cumsum.values.searchsorted(0.5) + 1"
      ],
      "execution_count": null,
      "outputs": []
    },
    {
      "cell_type": "code",
      "metadata": {
        "id": "4afnHbwWLL43"
      },
      "source": [
        "# Mostramos el porcentaje de nacimientos que acumulan los 1000 primeros nombres para cada año\n",
        "\n",
        "top1000.groupby(['year', 'sex']).sum()"
      ],
      "execution_count": null,
      "outputs": []
    },
    {
      "cell_type": "code",
      "metadata": {
        "deletable": true,
        "editable": true,
        "id": "U8u8AvjyJfsB"
      },
      "source": [
        "# Hacemos el cálculo (cuántos nombres permiten acumular el 50% de los nacimientos)\n",
        "# Se hace para todos los años y tanto para niños como para niñas\n",
        "\n",
        "def get_quantile_count(group):\n",
        "  group = group.sort_values(by='prop', ascending=False)\n",
        "  return group['prop'].cumsum().values.searchsorted(0.5) + 1\n",
        "\n",
        "diversity = top1000.groupby(['year', 'sex']).apply(get_quantile_count)\n",
        "diversity = diversity.unstack('sex')\n",
        "diversity"
      ],
      "execution_count": null,
      "outputs": []
    },
    {
      "cell_type": "code",
      "metadata": {
        "id": "2JGlATFdSI8x"
      },
      "source": [
        "# Mostramos la gráfica con cuántos nombres acumulan el 50% de nacimientos\n",
        "\n",
        "plt.figure(figsize=(10, 5))\n",
        "sns.lineplot(data=diversity)\n",
        "plt.show()"
      ],
      "execution_count": null,
      "outputs": []
    },
    {
      "cell_type": "markdown",
      "metadata": {
        "deletable": true,
        "editable": true,
        "id": "aqqKLNEnJfsC"
      },
      "source": [
        "## La revolución de la última letra"
      ]
    },
    {
      "cell_type": "code",
      "metadata": {
        "deletable": true,
        "editable": true,
        "id": "491kenrEJfsC"
      },
      "source": [
        "# Creamos una tabla que resume, por sexo y años, el número de niños y niñas cuyo nombre acaba en cada letra\n",
        "\n",
        "get_last_letter = lambda x: x[-1]\n",
        "last_letters = data['name'].map(get_last_letter)  # Sacamos la última letra de cada nombre\n",
        "table = data.pivot_table(values='births', index=last_letters, columns=['sex', 'year'], aggfunc=sum)\n",
        "table"
      ],
      "execution_count": null,
      "outputs": []
    },
    {
      "cell_type": "code",
      "metadata": {
        "deletable": true,
        "editable": true,
        "id": "iIOH14RsJfsD"
      },
      "source": [
        "# Nos quedamos con un subconjunto de tres años\n",
        "\n",
        "subtable = table.reindex(columns=[1910, 1960, 2010], level='year')\n",
        "subtable"
      ],
      "execution_count": null,
      "outputs": []
    },
    {
      "cell_type": "code",
      "metadata": {
        "deletable": true,
        "editable": true,
        "id": "IBtGuzFWJfsD"
      },
      "source": [
        "# Sustituimos el número de ocurrencias de cada letra por su probabilidad de ocurrencia\n",
        "\n",
        "letter_prop = subtable / subtable.sum()\n",
        "letter_prop"
      ],
      "execution_count": null,
      "outputs": []
    },
    {
      "cell_type": "code",
      "metadata": {
        "id": "198ft89mYTQ_"
      },
      "source": [
        "# Cómo han evolucionado los nombres terminados en cada letra para cada uno de los años\n",
        "\n",
        "plt.figure(figsize=(10, 5))\n",
        "sns.lineplot(data=letter_prop['M'])  # Nombres de niños\n",
        "plt.show()\n",
        "plt.figure(figsize=(10, 5))\n",
        "sns.lineplot(data=letter_prop['F'])  # Nombres de niñas\n",
        "plt.show()"
      ],
      "execution_count": null,
      "outputs": []
    },
    {
      "cell_type": "code",
      "metadata": {
        "deletable": true,
        "editable": true,
        "id": "Q7yLKT31JfsD"
      },
      "source": [
        "# Vemos como evolucionan tres de las letras para los niños\n",
        "\n",
        "letter_prop = table / table.sum()  # Calculamos el porcentaje que representa cada letra en cada año\n",
        "dny_ts = letter_prop.loc[['d', 'n', 'y'], 'M'].T\n",
        "dny_ts"
      ],
      "execution_count": null,
      "outputs": []
    },
    {
      "cell_type": "code",
      "metadata": {
        "id": "yUnTvTFxhOT5"
      },
      "source": [
        "# La gráfica muestra cómo evolucionan las terminaciones 'd', 'n' e 'y' a lo largo de los años\n",
        "\n",
        "plt.figure(figsize=(10, 5))\n",
        "sns.lineplot(data=dny_ts)\n",
        "plt.show()"
      ],
      "execution_count": null,
      "outputs": []
    },
    {
      "cell_type": "markdown",
      "metadata": {
        "deletable": true,
        "editable": true,
        "id": "o7IieU-MJfsE"
      },
      "source": [
        "## Nombres que cambiaron de sexo"
      ]
    },
    {
      "cell_type": "code",
      "metadata": {
        "deletable": true,
        "editable": true,
        "id": "pPgpZiffJfsF"
      },
      "source": [
        "# Obtenemos todos los nombres que contienen 'lesl'\n",
        "\n",
        "all_names = pd.Series(top1000['name'].unique())  # Lista con todos los nombres en el top 1000\n",
        "lesley_like = all_names[all_names.str.lower().str.contains('lesl')]  # Nombres que contienen 'lesl'\n",
        "lesley_like"
      ],
      "execution_count": null,
      "outputs": []
    },
    {
      "cell_type": "code",
      "metadata": {
        "deletable": true,
        "editable": true,
        "id": "FAX5LD6QJfsF"
      },
      "source": [
        "# Contamos el número de nacimientos cuyo nombre empieza por 'lesl'\n",
        "\n",
        "filtered = top1000[top1000['name'].isin(lesley_like)]\n",
        "filtered.groupby('name')['births'].sum()"
      ],
      "execution_count": null,
      "outputs": []
    },
    {
      "cell_type": "code",
      "metadata": {
        "deletable": true,
        "editable": true,
        "id": "IqOJ5txvJfsF"
      },
      "source": [
        "# Calculamos, para los nombres que empiezan por 'lesl', qué porcentaje son niños y cuál niñas para cada año\n",
        "\n",
        "table = filtered.pivot_table(values='births', index='year', columns='sex', aggfunc='sum')\n",
        "table = table.div(table.sum(1), axis=0)  # Obtiene el porcentaje de ocurrencias entre niños y niñas\n",
        "table"
      ],
      "execution_count": null,
      "outputs": []
    },
    {
      "cell_type": "code",
      "metadata": {
        "id": "9bfOFjnOk_qU"
      },
      "source": [
        "# Mostramos cómo han evolucionado los nombres 'lesl' para niños y niñas con los años\n",
        "\n",
        "plt.figure(figsize=(10, 5))\n",
        "sns.lineplot(data=table)\n",
        "plt.show()"
      ],
      "execution_count": null,
      "outputs": []
    },
    {
      "cell_type": "markdown",
      "metadata": {
        "id": "B_JFXkymPL4N"
      },
      "source": [
        "## Referencias\n",
        "\n",
        "* [Python for Data Analysis](https://github.com/wesm/pydata-book/blob/2nd-edition/ch14.ipynb)"
      ]
    }
  ]
}