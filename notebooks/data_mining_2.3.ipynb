{
  "nbformat": 4,
  "nbformat_minor": 0,
  "metadata": {
    "colab": {
      "provenance": [],
      "toc_visible": true,
      "authorship_tag": "ABX9TyN/MHGMXiUIFcBxbmLSmdne",
      "include_colab_link": true
    },
    "kernelspec": {
      "name": "python3",
      "display_name": "Python 3"
    }
  },
  "cells": [
    {
      "cell_type": "markdown",
      "metadata": {
        "id": "view-in-github",
        "colab_type": "text"
      },
      "source": [
        "<a href=\"https://colab.research.google.com/github/d-tomas/data-mining/blob/main/notebooks/data_mining_2.3.ipynb\" target=\"_parent\"><img src=\"https://colab.research.google.com/assets/colab-badge.svg\" alt=\"Open In Colab\"/></a>"
      ]
    },
    {
      "cell_type": "markdown",
      "metadata": {
        "id": "m4QeCLc5ah2j"
      },
      "source": [
        "# Tendencia central\n",
        "\n",
        "Este *notebook* explora las medidas de tendencia central utilizando un conjunto de datos de ventas de videojuegos. Utilizando las librerías *Pandas* y *Scipy*, muestra cómo cargar un conjunto de datos que contiene información sobre videojuegos y calcular varias estadísticas descriptivas, incluyendo la media, mediana, moda y el coeficiente de asimetría.\n",
        "\n",
        "Además, muestra cómo manejar los valores ausentes en los datos, como en el caso del cálculo del coeficiente de asimetría para la distribución de juegos por años."
      ]
    },
    {
      "cell_type": "markdown",
      "metadata": {
        "id": "OnvcISE_c97V"
      },
      "source": [
        "## Pasos previos"
      ]
    },
    {
      "cell_type": "code",
      "metadata": {
        "id": "ZsKmX-5V49-2"
      },
      "source": [
        "# Importamos las librerías de Python que necesitaremos en este notebook\n",
        "\n",
        "import pandas as pd\n",
        "from scipy import stats"
      ],
      "execution_count": null,
      "outputs": []
    },
    {
      "cell_type": "markdown",
      "metadata": {
        "id": "lySsq8wARNso"
      },
      "source": [
        "Vamos a trabajar con un conjunto de datos en formato CSV que contiene estadísticas sobre ventas históricas de videojuegos.\n",
        "\n",
        "Cada fila contiene la siguiente información:\n",
        "\n",
        "* `Rank`: ranking de ventas totales\n",
        "* `Name`: nombre del videojuego\n",
        "* `Platform`: plataforma en la que se publicó el juego (e.g. PC, PS4, ...)\n",
        "* `Year`: año de publicación del juego\n",
        "* `Genre`: género (e.g. acción, aventuras, ...)\n",
        "* `Publisher`: compañía distribuidora\n",
        "* `NA_Sales`: ventas en Norte América (en millones)\n",
        "* `EU_Sales`: ventas en Europa (en millones)\n",
        "* `JP_Sales`: ventas en Japón (en millones)\n",
        "* `Other_Sales`: ventas en el resto del mundo (en millones)\n",
        "* `Global_Sales`: ventas mundiales totales (en millones)"
      ]
    },
    {
      "cell_type": "code",
      "metadata": {
        "id": "B1k3VoZdV9QQ"
      },
      "source": [
        "# Obtención del fichero CSV con los datos\n",
        "\n",
        "!wget https://raw.githubusercontent.com/d-tomas/data-mining/main/datasets/video_game_sales.csv"
      ],
      "execution_count": null,
      "outputs": []
    },
    {
      "cell_type": "code",
      "metadata": {
        "id": "ANO78ZDJcFUP"
      },
      "source": [
        "# Cargamos los datos en formato CSV\n",
        "\n",
        "data = pd.read_csv('video_game_sales.csv')\n",
        "data"
      ],
      "execution_count": null,
      "outputs": []
    },
    {
      "cell_type": "markdown",
      "metadata": {
        "id": "WDUvCjwuVk-U"
      },
      "source": [
        "## Medidas"
      ]
    },
    {
      "cell_type": "code",
      "metadata": {
        "id": "yjuQfStlVuhJ"
      },
      "source": [
        "# Número de valores de cada columna (sin contar ausentes)\n",
        "\n",
        "data.count()"
      ],
      "execution_count": null,
      "outputs": []
    },
    {
      "cell_type": "code",
      "metadata": {
        "id": "3qOco63acsFw"
      },
      "source": [
        "# Suma total de valores de un DataFrame, por columna\n",
        "# Nos quedamos solo con columnas numéricas\n",
        "\n",
        "numeric_data = data.select_dtypes(include=['number'])\n",
        "numeric_data.sum()"
      ],
      "execution_count": null,
      "outputs": []
    },
    {
      "cell_type": "code",
      "metadata": {
        "id": "_bdL__a8dK0m"
      },
      "source": [
        "# Media de cada columna\n",
        "\n",
        "numeric_data.mean()"
      ],
      "execution_count": null,
      "outputs": []
    },
    {
      "cell_type": "code",
      "metadata": {
        "id": "xrDEDikq43XP"
      },
      "source": [
        "# Media truncada de las ventas globales\n",
        "\n",
        "stats.trim_mean(data['Global_Sales'], proportiontocut=0.02)  # Eliminamos el 2% de valores más extremos"
      ],
      "execution_count": null,
      "outputs": []
    },
    {
      "cell_type": "code",
      "metadata": {
        "id": "UnbvM2aTdPTh"
      },
      "source": [
        "# Mediana\n",
        "\n",
        "numeric_data.median()"
      ],
      "execution_count": null,
      "outputs": []
    },
    {
      "cell_type": "code",
      "metadata": {
        "id": "utETQPaajX8f"
      },
      "source": [
        "# Moda\n",
        "\n",
        "data.drop('Rank', axis=1).mode()  # Eliminamos la columna 'Ranking' porque no tiene sentido calcular su moda (no se repite nunca)"
      ],
      "execution_count": null,
      "outputs": []
    },
    {
      "cell_type": "code",
      "metadata": {
        "id": "_8o8ZELG2DGM"
      },
      "source": [
        "# ¿Qué coeficiente de asimetría tiene el conjunto de ventas globales?\n",
        "\n",
        "stats.skew(data['Global_Sales'])"
      ],
      "execution_count": null,
      "outputs": []
    },
    {
      "cell_type": "code",
      "metadata": {
        "id": "ufz9THVQIQJO"
      },
      "source": [
        "# ¿Y la distribución de juegos por años?\n",
        "\n",
        "stats.skew(data['Year'].dropna())  # Eliminamos valores ausentes"
      ],
      "execution_count": null,
      "outputs": []
    },
    {
      "cell_type": "markdown",
      "metadata": {
        "id": "27Z1FvxtiZ0k"
      },
      "source": [
        "# Referencias\n",
        "\n",
        "* [Video Game Sales](https://www.kaggle.com/gregorut/videogamesales)\n",
        "* \"*Python for Data Analysis*\", Wes McKinney (2017)\n",
        "* \"*Data Mining: Concepts and Techniques*\", Jiawei Han et al. (2011)"
      ]
    }
  ]
}