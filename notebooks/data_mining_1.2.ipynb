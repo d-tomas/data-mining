{
  "nbformat": 4,
  "nbformat_minor": 0,
  "metadata": {
    "colab": {
      "provenance": [],
      "authorship_tag": "ABX9TyO3o8dJc8Qa0pEtP0SlO/+s",
      "include_colab_link": true
    },
    "kernelspec": {
      "name": "python3",
      "display_name": "Python 3"
    }
  },
  "cells": [
    {
      "cell_type": "markdown",
      "metadata": {
        "id": "view-in-github",
        "colab_type": "text"
      },
      "source": [
        "<a href=\"https://colab.research.google.com/github/d-tomas/data-mining/blob/main/notebooks/data_mining_1.2.ipynb\" target=\"_parent\"><img src=\"https://colab.research.google.com/assets/colab-badge.svg\" alt=\"Open In Colab\"/></a>"
      ]
    },
    {
      "cell_type": "markdown",
      "metadata": {
        "id": "Lddn8aR5KY1v"
      },
      "source": [
        "# PEP 8"
      ]
    },
    {
      "cell_type": "markdown",
      "metadata": {
        "id": "9nR0-0rD_6b1"
      },
      "source": [
        "## Nombres\n",
        "\n",
        "Si hay que quedarse con algo de *PEP 8* que sea esto. Fácil y efectivo:\n",
        "\n",
        "* *Variables*: usa letras minúsculas y guiones bajos para separar palabras\n",
        "* *Funciones*: usa letras minúsculas y guiones bajos para separar palabras\n",
        "* *Clases*: pon en mayúsculas la primera letra de cada palabra (*CapWords*)\n",
        "* *Constantes*: usa letras mayúsculas y guiones bajos para separar palabras\n",
        "* Si necesitas usar una palabra reservada, añade un guión bajo al final\n",
        "* Evita usar nombres demasiado cortos como `fn`; escribe en su lugar `first_name`\n",
        "* Nunca uses `l` minúscula, `O` mayúscula o `I` mayúscula como nombre de variable; se confunden fácilmente con `1` o `0`\n"
      ]
    },
    {
      "cell_type": "code",
      "metadata": {
        "id": "UsmklA9jAjDo"
      },
      "source": [
        "students = 10  # Variable\n",
        "\n",
        "def calculate_area(length_x, length_y):  # Función\n",
        "    return length_x * length_y\n",
        "\n",
        "class FlyingPig:  # Clase\n",
        "    weight = 25\n",
        "\n",
        "PI = 3.1415927  # Constante\n",
        "\n",
        "class_ = 'Mammal'  # Me he encabezonado en usar 'class' como nombre de variable"
      ],
      "execution_count": null,
      "outputs": []
    },
    {
      "cell_type": "markdown",
      "metadata": {
        "id": "xiROCtYODryQ"
      },
      "source": [
        "## Indentación\n",
        "\n",
        "Dado que Python utiliza la indentación en lugar de llaves para denotar el ámbito de un bloque de código, es fundamental tener un estilo de indentación limpio y consistente:\n",
        "\n",
        "* Las directrices no son demasiado estrictas, habiendo múltiples opciones; la clave es elegir una convención y atenerse a ella.\n",
        "* *PEP 8* pone fin al debate espacios vs. tabuladores, recomendando cuatro espacios en lugar de un carácter de tabulación.\n",
        "* Indenta siempre el código que ocupa varias líneas, para mejorar la lectura\n",
        "* Para listas de valores largas, o bien se indenta en base al delimitador de apertura (*opening delimiter*) o se utiliza una sangría colgante (*hanging indent*)\n",
        "* Cuando se usan *hanging indents*, no debe existir ningún valor en la primera línea y debe añadirse un nivel extra de indentación si hay un bloque a continuación\n",
        "* En el caso de sentencias multilínea, el símbolo de cierre puede alinearse con la indentación usada o con el primer carácter de la declaración\n"
      ]
    },
    {
      "cell_type": "code",
      "metadata": {
        "id": "ylOSanjkH7f5"
      },
      "source": [
        "# ¡Este bloque no compila! Es solo para poner ejemplos\n",
        "\n",
        "# Lista de valores larga con 'opening delimiter'\n",
        "result = my_function(first_argument, second_argument,\n",
        "                    third_argument, fourth_argument)\n",
        "\n",
        "# Lista de valores larga con 'hanging indent'\n",
        "result = my_function(\n",
        "    first_argument, second_argument,\n",
        "    third_argument, fourth_argument)\n",
        "\n",
        "# Lista de valores larga con 'hanging indent' y bloque a continuación\n",
        "def my_function(\n",
        "        first_argument, second_argument,\n",
        "        third_argument, fourth_argument):\n",
        "    print(first_argument)\n",
        "\n",
        "# Alineamiento de sentencia multilínea al espacio en blanco\n",
        "my_list = [\n",
        "    1, 2, 3,\n",
        "    4, 5, 6,\n",
        "    ]\n",
        "\n",
        "# Alineamiento de sentencia multilínea al primer carácter\n",
        "my_list = [\n",
        "    1, 2, 3,\n",
        "    4, 5, 6,\n",
        "]"
      ],
      "execution_count": null,
      "outputs": []
    },
    {
      "cell_type": "markdown",
      "metadata": {
        "id": "R2VUO5KZKXWL"
      },
      "source": [
        "## Espacios en blanco y saltos de línea\n",
        "\n",
        "PEP 8 tiene pautas bastante estrictas sobre cuándo dividir las líneas largas y agregar espacios en blanco.\n",
        "\n",
        "Usa las siguientes pautas como punto de partida; lo más importante es mantenerse consistente.\n",
        "\n",
        "Criterios para los saltos de línea:\n",
        "\n",
        "* Se recomienda no incluir múltiples instrucciones en la misma línea\n",
        "* Manten la longitud de las líneas por debajo de 79 caracteres\n",
        "* Usa dos líneas en blanco antes y después de funciones y definiciones de clases\n",
        "* Usa una línea en blanco antes y después de la definición de un método de clase\n",
        "* Use una línea en blanco para separar los pasos lógicos en secuencias largas\n",
        "\n",
        "Criterios para los espacios en blanco:\n",
        "\n",
        "* Evita espacios en blanco innecesarios\n",
        "* Evita espacios en blanco inmediatamente dentro de los paréntesis, llaves o corchetes\n",
        "* Usa espacios en blanco alrededor de la asignación y los operadores lógicos\n",
        "* No uses espacios en blanco en asignación de valores en parámetros por defecto\n",
        "* Usa espacios alrededor de los operadores matemáticos para aclarar el orden de las operaciones\n",
        "* Usa espacios en blanco después de las comas y los dos puntos si no están junto al final de un corchete, llave o paréntesis\n",
        "* Cuando se usa `:` para trocear una lista, no deben ponerse espacios en blanco\n",
        "* No uses espacios en blanco para alinear los valores de las variables\n",
        "\n",
        "\n",
        "\n"
      ]
    },
    {
      "cell_type": "code",
      "metadata": {
        "id": "AoNiCSDTPgZG"
      },
      "source": [
        "# ¡Este bloque no compila! Es solo para poner ejemplos\n",
        "\n",
        "# Espacios en blanco dentro de paréntesis, llaves y corchetes\n",
        "spam(ham[1], {eggs: 2})  # Bien\n",
        "spam ( ham[ 1 ], { eggs: 2 } )  # Mal\n",
        "\n",
        "# Espacios en blanco en asignación y operadores lógicos\n",
        "egg = 12  # Bien\n",
        "egg=12  # Mal\n",
        "\n",
        "# Espacios en blanco en asignación de parámetros por defecto\n",
        "def complex(real, imag=0.0):  # Bien\n",
        "    return magic(r=real, i=imag)  # Bien\n",
        "\n",
        "def complex(real, imag = 0.0):  # Mal\n",
        "    return magic(r = real, i = imag)  # Mal\n",
        "\n",
        "# Espacios en blanco en operadores matemáticos\n",
        "hypot = x*x + y*y  # Bien\n",
        "c = (a+b) * (a-b) # Bien\n",
        "\n",
        "hypot = x * x + y * y  # Mal\n",
        "c = (a + b) * (a - b) # Mal\n",
        "\n",
        "# Espacios en blanco después de comas y puntos\n",
        "x, y = y, x  # Bien\n",
        "x , y = y , x  # Mal\n",
        "\n",
        "# Espacios en blanco con ':'\n",
        "my_list[2:5] = 10  # Bien\n",
        "my_list[2 : 5] = 10  # Mal\n",
        "\n",
        "# Espacios en blanco para alinear valores de variables\n",
        "user_name    = 'Pepito'  # Mal\n",
        "user_country = 'Spain'"
      ],
      "execution_count": null,
      "outputs": []
    },
    {
      "cell_type": "markdown",
      "metadata": {
        "id": "JDgDlL4VTrRB"
      },
      "source": [
        "## ¿Comillas simples o comillas dobles?\n",
        "\n",
        "Tanto las comillas simples (`'`) como las dobles (`\"`) se utilizan para definir los valores de las cadenas de caracteres.\n",
        "\n",
        "Además, las comillas triples (`'''` o `\"\"\"`) se utilizan para cadenas que ocupen varias líneas.\n",
        "\n",
        "Python no aboga por las comillas simples o dobles, pero sí proporciona directrices de uso:\n",
        "\n",
        "* Usa comillas dobles para cadenas que contengan comillas simples\n",
        "* Use comillas simples para cadenas con comillas dobles"
      ]
    },
    {
      "cell_type": "code",
      "metadata": {
        "id": "i1bufyftUJNV"
      },
      "source": [
        "# Todos estos ejemplos son correctos\n",
        "\n",
        "message = 'En un lugar de \"La Mancha\"'\n",
        "\n",
        "message = \"En un lugar de 'La Mancha'\"\n",
        "\n",
        "message = '''En un lugar de \"La Mancha\", de cuyo nombre no quiero acordarme,\n",
        "             no ha mucho tiempo que vivía un hidalgo de los de lanza en astillero,\n",
        "             adarga antigua, rocín flaco y galgo corredor'''\n",
        "\n",
        "message = \"\"\"En un lugar de 'La Mancha', de cuyo nombre no quiero acordarme,\n",
        "             no ha mucho tiempo que vivía un hidalgo de los de lanza en astillero,\n",
        "             adarga antigua, rocín flaco y galgo corredor\"\"\""
      ],
      "execution_count": null,
      "outputs": []
    },
    {
      "cell_type": "markdown",
      "metadata": {
        "id": "kVvojB3EWl8g"
      },
      "source": [
        "## Comentarios\n",
        "\n",
        "Mantén los comentarios actualizados; los comentarios incorrectos son peor que no tener comentarios:\n",
        "\n",
        "* Escribe frases completas\n",
        "* Un comentario comienza por `#` seguido de un espacio en blanco\n",
        "* Comentarios en bloque (`block comments`):\n",
        "  * Una o más líneas de comentarios que comienzan por `#`\n",
        "  * Deben indentarse a la altura del código que están comentando\n",
        "  * Separa párrafos en el comentario con una línea de comentario vacía\n",
        "* Comentarios en línea (`inline comments`):\n",
        "  * Siguen al código que comentan en la misma línea\n",
        "  * Deben usarse moderadamente\n",
        "  * Debe haber dos espacios en blanco entre el comentario y el código\n",
        "* Todas las funciones, clases y métodos deberían estar documentadas (`docstrings`)\n",
        "* Se debe usar triple comillas (`\"\"\"`) en los `docstrings`"
      ]
    },
    {
      "cell_type": "code",
      "metadata": {
        "id": "-86EK6duZqSw"
      },
      "source": [
        "# Esto es un comentario en bloque\n",
        "# Puede tener una línea o más de una\n",
        "#\n",
        "# He dejado una línea en blanco para separar párrafos dentro del comentario\n",
        "# Fácil, ¿no?\n",
        "\n",
        "var = 34  # Esto es un comentario en línea\n",
        "\n",
        "def my_function():\n",
        "    \"\"\" Esto es un docstring de una línea no más \"\"\"\n",
        "\n",
        "def my_other_function(parameter=False):\n",
        "    \"\"\"\n",
        "    Esto es un docstring multilínea.\n",
        "\n",
        "    Docstring tiene también sus propios formatos, como Epytext, reST y Google.\n",
        "    Ya, si eso, os lo miráis en casa...\n",
        "\n",
        "    \"\"\""
      ],
      "execution_count": null,
      "outputs": []
    },
    {
      "cell_type": "markdown",
      "metadata": {
        "id": "wOWvJAoyeIdK"
      },
      "source": [
        "## Expresiones y módulos\n",
        "\n",
        "* Usa la negación en línea (`if a is not b`) en lugar de negar una expresión positiva (`if not a is b`)\n",
        "* No compruebes si una lista está vacía usando `len(lista) == 0` sino `if not lista`\n",
        "* Siempre coloca `import` al inicio del fichero\n",
        "* Importa funciones y clases usando `from my_module import MyClass` en lugar de importar el módulo completo (`import my_module`)\n",
        "* Debes importar las librería en este orden:\n",
        "  * Módulos de la librería standar\n",
        "  * Módulos externos\n",
        "  * Módulos del proyecto\n",
        "* Cada una de estas secciones de importación debe estar en orden alfabético"
      ]
    },
    {
      "cell_type": "markdown",
      "metadata": {
        "id": "28iQfwkRAfun"
      },
      "source": [
        "## Ejercicio"
      ]
    },
    {
      "cell_type": "code",
      "metadata": {
        "id": "DJinczboPJSW"
      },
      "source": [
        "# Instalamos 'Flake8' para analizar el estilo del código\n",
        "\n",
        "!pip install flake8"
      ],
      "execution_count": null,
      "outputs": []
    },
    {
      "cell_type": "code",
      "metadata": {
        "id": "kLIqePTuPju_"
      },
      "source": [
        "# 'Flake8' no revisa el formato de nombres\n",
        "# Hay que instalar un plugin de 'Flake8' llamado 'pep8-naming'\n",
        "# Los códigos de error de tipo 'Nxxx' son de nombres\n",
        "\n",
        "!pip install pep8-naming"
      ],
      "execution_count": null,
      "outputs": []
    },
    {
      "cell_type": "code",
      "metadata": {
        "id": "UkYXrdOtKsUu"
      },
      "source": [
        "# Ejemplo de código fulero, con bastantes problemas de estilo...\n",
        "# Vamos a crear un fichero 'test.py' con este código para analizarlo\n",
        "\n",
        "%%writefile test.py\n",
        "#definimos nuestros datos\n",
        "my_dict ={\n",
        "    'a'  : 10,\n",
        "'b': 3,\n",
        "    'c'  :   4,\n",
        "          'd': 7}\n",
        "#importamos el módulo que necesitamos\n",
        "import numpy as np\n",
        "#función de ayuda\n",
        "def DictToArray(d):\n",
        "  \"\"\"Convertir valores de diccionario a array de numpy\"\"\"\n",
        "  #extraer valores y convertir\n",
        "               x=np.array(d.values())\n",
        "               return x\n",
        "# Esta es una línea de comentario innecesariamente larga que debería de dividirse en varias\n",
        "print(DictToArray(my_dict))\n",
        "\n",
        "class my_class:\n",
        "    x = 12"
      ],
      "execution_count": null,
      "outputs": []
    },
    {
      "cell_type": "code",
      "metadata": {
        "id": "Pkn5EWe0N1bs"
      },
      "source": [
        "# Si queremos ver los números de línea\n",
        "\n",
        "!cat -n test.py"
      ],
      "execution_count": null,
      "outputs": []
    },
    {
      "cell_type": "code",
      "metadata": {
        "id": "7ZJLdiRsPn5Y"
      },
      "source": [
        "# Usamos 'Flake8' desde línea de comando para analizar el fichero\n",
        "\n",
        "!flake8 test.py"
      ],
      "execution_count": null,
      "outputs": []
    },
    {
      "cell_type": "markdown",
      "metadata": {
        "id": "894sKeD-yBhA"
      },
      "source": [
        "### ¿Te atreves a corregirlo?"
      ]
    },
    {
      "cell_type": "code",
      "metadata": {
        "id": "ddckmue1yFYp"
      },
      "source": [
        "# Corrige los errores de estilo en esta celda\n",
        "\n",
        "%%writefile test.py\n",
        "#definimos nuestros datos\n",
        "my_dict ={\n",
        "    'a'  : 10,\n",
        "'b': 3,\n",
        "    'c'  :   4,\n",
        "          'd': 7}\n",
        "#importamos el módulo que necesitamos\n",
        "import numpy as np\n",
        "#función de ayuda\n",
        "def DictToArray(d):\n",
        "  \"\"\"Convertir valores de diccionario a array de numpy\"\"\"\n",
        "  #extraer valores y convertir\n",
        "               x=np.array(d.values())\n",
        "               return x\n",
        "# Esta es una línea de comentario innecesariamente larga que debería de dividirse en varias\n",
        "print(DictToArray(my_dict))\n",
        "\n",
        "class my_class:\n",
        "    x = 12"
      ],
      "execution_count": null,
      "outputs": []
    },
    {
      "cell_type": "code",
      "metadata": {
        "id": "e8roFT5NyL-a"
      },
      "source": [
        "# Vuelve a analizar el estilo hasta que esté todo correcto\n",
        "\n",
        "!flake8 test.py"
      ],
      "execution_count": null,
      "outputs": []
    },
    {
      "cell_type": "markdown",
      "metadata": {
        "id": "0Xk4QYGEA0eE"
      },
      "source": [
        "# Referencias\n",
        "\n",
        "* [A Five-Minute Introduction to Python's Style Guide: PEP 8](https://medium.com/code-85/a-five-minute-introduction-to-pythons-style-guide-pep-8-57202886265f)\n",
        "* [A Summary of PEP 8: Style Guide for Python Code](https://tandysony.com/2018/02/14/pep-8.html)\n",
        "* [An Overview of The PEP 8 Style Guide](https://towardsdatascience.com/an-overview-of-the-pep-8-style-guide-5672459c7682)\n",
        "* [¿Que es el PEP 8 y porque debería implementarlo?](https://dev.to/viktorvillalobos/que-es-el-pep-8-y-porque-deberia-implementarlo-54bh)"
      ]
    }
  ]
}