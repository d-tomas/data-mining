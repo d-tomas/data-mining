{
  "nbformat": 4,
  "nbformat_minor": 0,
  "metadata": {
    "colab": {
      "private_outputs": true,
      "provenance": [],
      "toc_visible": true,
      "authorship_tag": "ABX9TyMu9FfNxHmydu+u6CE2g+Xg",
      "include_colab_link": true
    },
    "kernelspec": {
      "name": "python3",
      "display_name": "Python 3"
    }
  },
  "cells": [
    {
      "cell_type": "markdown",
      "metadata": {
        "id": "view-in-github",
        "colab_type": "text"
      },
      "source": [
        "<a href=\"https://colab.research.google.com/github/d-tomas/data-mining/blob/main/notebooks/exercise_4.ipynb\" target=\"_parent\"><img src=\"https://colab.research.google.com/assets/colab-badge.svg\" alt=\"Open In Colab\"/></a>"
      ]
    },
    {
      "cell_type": "markdown",
      "metadata": {
        "id": "KbXiowksSNs3"
      },
      "source": [
        "# Películas de IMDb (II)\n"
      ]
    },
    {
      "cell_type": "markdown",
      "metadata": {
        "id": "34RknDhXQ6LI"
      },
      "source": [
        "Vamos a poner en práctica las técnicas que hemos visto de visualización."
      ]
    },
    {
      "cell_type": "markdown",
      "metadata": {
        "id": "OnvcISE_c97V"
      },
      "source": [
        "## Pasos previos"
      ]
    },
    {
      "cell_type": "code",
      "metadata": {
        "id": "ZsKmX-5V49-2"
      },
      "source": [
        "# Importamos las librerías de Python necesarias\n",
        "\n",
        "import matplotlib.pyplot as plt\n",
        "import pandas as pd\n",
        "import seaborn as sns\n",
        "\n",
        "sns.set_style('whitegrid')  # Pone una malla de fondo bastante mona para Seaborn. El tema por defecto es 'darkgrid'"
      ],
      "execution_count": null,
      "outputs": []
    },
    {
      "cell_type": "markdown",
      "metadata": {
        "id": "lySsq8wARNso"
      },
      "source": [
        "Vamos a trabajar de nuevo con un conjunto de datos en formato CSV que contiene estadísticas sobre 85.855 películas de [IMDB](https://www.imdb.com/).\n",
        "\n",
        "Cada fila contiene la siguiente información:\n",
        "\n",
        "* `imdb_title_id`: identificador de IMDb\n",
        "* `title`: título de la película\n",
        "* `original_title`: título original (normalmente coincide con el campo `title`, pero no siempre)\n",
        "* `year`: año de estreno\n",
        "* `date_published`: fecha de estreno\n",
        "* `genre`: género\n",
        "* `duration`: duración (en minutos)\n",
        "* `country`: país de la película\n",
        "* `language`: idioma original\n",
        "* `director`: nombre del director/a\n",
        "* `writer`: nombre del/la guionista\n",
        "* `production_company`: nombre de la productora\n",
        "* `actors`: nombres de los actores principales, separados por comas\n",
        "* `description`: breve descripción del argumento\n",
        "* `avg_vote`: puntuación de los usuarios (de 0 a 10)\n",
        "* `votes`: número de votos recibidos\n",
        "* `budget`: presupuesto\n",
        "* `usa_gross_income`: recaudación en EE.UU.\n",
        "* `worlwide_gross_income`: recaudación a nivel mundial\n",
        "* `metascore`: puntuación de los críticos (de 0 a 100)\n",
        "* `reviews_from_users`: número de opiniones de los usuarios\n",
        "* `reviews_from_critics`: número de opiniones de los críticos\n"
      ]
    },
    {
      "cell_type": "code",
      "metadata": {
        "id": "-vuzvuWIIBE7"
      },
      "source": [
        "# Obtención del fichero CSV con los datos\n",
        "\n",
        "!wget https://github.com/d-tomas/data-mining/raw/main/datasets/imdb.tgz\n",
        "!tar xvfz imdb.tgz\n",
        "!rm imdb.tgz"
      ],
      "execution_count": null,
      "outputs": []
    },
    {
      "cell_type": "code",
      "metadata": {
        "id": "kz4Q-kIkYrBi"
      },
      "source": [
        "# Cargamos los datos en formato CSV\n",
        "\n",
        "data = pd.read_csv('imdb.csv', index_col='imdb_title_id')\n",
        "data"
      ],
      "execution_count": null,
      "outputs": []
    },
    {
      "cell_type": "markdown",
      "metadata": {
        "id": "cC9hGBbEHar1"
      },
      "source": [
        "## Un poco de limpieza inicial"
      ]
    },
    {
      "cell_type": "code",
      "metadata": {
        "id": "665p0yIcuD8J"
      },
      "source": [
        "# Vamos a ver los tipos de datos de cada columna\n",
        "\n",
        "data.info()"
      ],
      "execution_count": null,
      "outputs": []
    },
    {
      "cell_type": "code",
      "metadata": {
        "id": "O7dp8qNmHdwg"
      },
      "source": [
        "# Renombra la columna 'worlwide_gross_income' como 'worldwide_gross_income'\n",
        "data.rename(columns={'worlwide_gross_income': 'worldwide_gross_income'}, inplace=True)\n",
        "\n",
        "# Transformar a valor numérico el año\n",
        "data['year'] = pd.to_numeric(data['year'], errors='coerce')\n",
        "\n",
        "# Transforma 'budget' a numérico\n",
        "data['budget'] = pd.to_numeric(data['budget'].str.split(' ').str[-1], errors='coerce')\n",
        "\n",
        "# Transforma 'usa_gross_income' a numérico\n",
        "data['usa_gross_income'] = pd.to_numeric(data['usa_gross_income'].str.split(' ').str[-1], errors='coerce')\n",
        "\n",
        "# Transforma 'worldwide_gross_income' a numérico\n",
        "data['worldwide_gross_income'] = pd.to_numeric(data['worldwide_gross_income'].str.split(' ').str[-1], errors='coerce')"
      ],
      "execution_count": null,
      "outputs": []
    },
    {
      "cell_type": "markdown",
      "metadata": {
        "id": "EXmUu6mktOON"
      },
      "source": [
        "## Ejercicios"
      ]
    },
    {
      "cell_type": "markdown",
      "metadata": {
        "id": "00pstGAFtRtH"
      },
      "source": [
        "**1.** ¿Cuántas películas hay de cada duración (`duration`)? Quita aquellas que duren más de 4 horas."
      ]
    },
    {
      "cell_type": "code",
      "metadata": {
        "id": "wHS8QDYmtWSF"
      },
      "source": [],
      "execution_count": null,
      "outputs": []
    },
    {
      "cell_type": "markdown",
      "metadata": {
        "id": "-NnJij6HuQL2"
      },
      "source": [
        "**2.** Muestra la correlación entre número de votos recibidos (`votes`), número de opiniones de los usuarios (`reviews_from_users`), número de opiniones de los críticos (`reviews_from_critics`), ingresos en USA (`usa_gross_income`) e ingresos mundiales (`worldwide_gross_income`)."
      ]
    },
    {
      "cell_type": "code",
      "metadata": {
        "id": "B_aY8PRpuS73"
      },
      "source": [],
      "execution_count": null,
      "outputs": []
    },
    {
      "cell_type": "markdown",
      "metadata": {
        "id": "93Y8l0YEvUPN"
      },
      "source": [
        "**3.** Muestr la correlación entre presupuesto (`budget`) e ingresos en EE.UU. (`usa_gross_income`) para las películas americanas (`country`), antes de 1950 y después de 1950 (`year`)."
      ]
    },
    {
      "cell_type": "code",
      "metadata": {
        "id": "13OLb1nHvCtp"
      },
      "source": [],
      "execution_count": null,
      "outputs": []
    },
    {
      "cell_type": "markdown",
      "metadata": {
        "id": "ObasQ2E2vLCu"
      },
      "source": [
        "**4.** Muestra los histogramas de la puntuación de los usuarios (`avg_vote`) y los críticos (`metascore`) superpuestos."
      ]
    },
    {
      "cell_type": "code",
      "metadata": {
        "id": "vPaWZ2GhvWf6"
      },
      "source": [],
      "execution_count": null,
      "outputs": []
    },
    {
      "cell_type": "markdown",
      "metadata": {
        "id": "fyY0UHfovghx"
      },
      "source": [
        "**5.** ¿Cuáles son los 20 actores (`actors`) que aparecen en más películas?"
      ]
    },
    {
      "cell_type": "code",
      "metadata": {
        "id": "iLhWTMPtvfzq"
      },
      "source": [],
      "execution_count": null,
      "outputs": []
    },
    {
      "cell_type": "markdown",
      "metadata": {
        "id": "-Z_9WqRYv2sh"
      },
      "source": [
        "**6.** ¿Cuáles son los 10 directores (`director`) con mejor puntuación de los críticos (`metascore`)?"
      ]
    },
    {
      "cell_type": "code",
      "metadata": {
        "id": "Ikiu4Z2Lql9j"
      },
      "source": [],
      "execution_count": null,
      "outputs": []
    },
    {
      "cell_type": "markdown",
      "metadata": {
        "id": "ZtHjoaU0y5dr"
      },
      "source": [
        "**7.** Correlación entre ingresos a nivel mundial (`worldwide_gross_income`) y puntuación de los usuarios (`avg_vote`)."
      ]
    },
    {
      "cell_type": "code",
      "metadata": {
        "id": "sUttWI0cuXbJ"
      },
      "source": [],
      "execution_count": null,
      "outputs": []
    },
    {
      "cell_type": "markdown",
      "metadata": {
        "id": "OB6piW0BxFIS"
      },
      "source": [
        "**8.** Evolución de la nota media de los críticos (`metascore`) y los usuarios (`avg_vote`) por año (`year`)."
      ]
    },
    {
      "cell_type": "code",
      "metadata": {
        "id": "1i5BifHyxJ_G"
      },
      "source": [],
      "execution_count": null,
      "outputs": []
    }
  ]
}