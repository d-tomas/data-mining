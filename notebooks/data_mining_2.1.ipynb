{
  "nbformat": 4,
  "nbformat_minor": 0,
  "metadata": {
    "colab": {
      "provenance": [],
      "toc_visible": true,
      "authorship_tag": "ABX9TyPTATObSmCUicH7ECnA1QSX",
      "include_colab_link": true
    },
    "kernelspec": {
      "name": "python3",
      "display_name": "Python 3"
    }
  },
  "cells": [
    {
      "cell_type": "markdown",
      "metadata": {
        "id": "view-in-github",
        "colab_type": "text"
      },
      "source": [
        "<a href=\"https://colab.research.google.com/github/d-tomas/data-mining/blob/main/notebooks/data_mining_2.1.ipynb\" target=\"_parent\"><img src=\"https://colab.research.google.com/assets/colab-badge.svg\" alt=\"Open In Colab\"/></a>"
      ]
    },
    {
      "cell_type": "markdown",
      "metadata": {
        "id": "zGVnDEA7ckqu"
      },
      "source": [
        "# Un poco de Pandas"
      ]
    },
    {
      "cell_type": "markdown",
      "metadata": {
        "id": "OnvcISE_c97V"
      },
      "source": [
        "## Pasos previos"
      ]
    },
    {
      "cell_type": "code",
      "metadata": {
        "id": "6fyaksU8v4_j"
      },
      "source": [
        "# Importamos las librerías de Python que necesitaremos en este notebook\n",
        "\n",
        "import pandas as pd"
      ],
      "execution_count": null,
      "outputs": []
    },
    {
      "cell_type": "markdown",
      "metadata": {
        "id": "7uR3TKjRjobp"
      },
      "source": [
        "## Estructuras de datos\n"
      ]
    },
    {
      "cell_type": "markdown",
      "metadata": {
        "id": "yuG3W719j5pc"
      },
      "source": [
        "### Series"
      ]
    },
    {
      "cell_type": "code",
      "metadata": {
        "id": "P5LPkyCrj781"
      },
      "source": [
        "# Creamos una serie solo con los valores, sin definir el índice\n",
        "# Se creará un índice numérico por defecto (se muestra en la primera columna)\n",
        "\n",
        "s = pd.Series([1, 6, 3, -4, 9])\n",
        "s  # Simplemente para mostrar por pantalla el resultado"
      ],
      "execution_count": null,
      "outputs": []
    },
    {
      "cell_type": "code",
      "metadata": {
        "id": "hwvDjH7akEGs"
      },
      "source": [
        "# Obtenemos los valores de la serie\n",
        "\n",
        "s.values"
      ],
      "execution_count": null,
      "outputs": []
    },
    {
      "cell_type": "code",
      "metadata": {
        "id": "D-N9lCAsl5Z0"
      },
      "source": [
        "# Obetenemos los valores del índice\n",
        "\n",
        "s.index"
      ],
      "execution_count": null,
      "outputs": []
    },
    {
      "cell_type": "code",
      "metadata": {
        "id": "F7Z4yh5qkIVS"
      },
      "source": [
        "# Podemos indicar explícitamente los valores del índice al crear la serie\n",
        "\n",
        "s = pd.Series([1, 6, 3, -4, 9], index=['One', 'Two', 'Three', 'Four', 'Five'])\n",
        "s"
      ],
      "execution_count": null,
      "outputs": []
    },
    {
      "cell_type": "code",
      "metadata": {
        "id": "cDXKNkF-mXWg"
      },
      "source": [
        "# Mostramos los valores del índice\n",
        "\n",
        "s.index"
      ],
      "execution_count": null,
      "outputs": []
    },
    {
      "cell_type": "code",
      "metadata": {
        "id": "Nxurg-Y8kLEd"
      },
      "source": [
        "# Podemos usar etiquetas en el índice para seleccionar un valor concreto de la serie\n",
        "\n",
        "s['Five']"
      ],
      "execution_count": null,
      "outputs": []
    },
    {
      "cell_type": "code",
      "metadata": {
        "id": "MgBLePLpmrXS"
      },
      "source": [
        "# Lo mismo para asignar valores a un elemento concreto\n",
        "\n",
        "s['Five'] = 6\n",
        "s[['Three', 'One', 'Five']]  # Podemos seleccionar varios valores al mismo tiempo"
      ],
      "execution_count": null,
      "outputs": []
    },
    {
      "cell_type": "code",
      "metadata": {
        "id": "rvajPW6lkR9V"
      },
      "source": [
        "# Comprobamos si una etiqueta es parte del índice\n",
        "\n",
        "'Four' in s"
      ],
      "execution_count": null,
      "outputs": []
    },
    {
      "cell_type": "code",
      "metadata": {
        "id": "iJ9vBVe7kUtE"
      },
      "source": [
        "# Se puede construir una serie a apartir de un diccionario de Python\n",
        "# Las claves serán el índice\n",
        "\n",
        "population = {'Alicante': 335000, 'Villena': 34000, 'Elche': 230000, 'Bonete': 1100}\n",
        "s = pd.Series(population)\n",
        "s"
      ],
      "execution_count": null,
      "outputs": []
    },
    {
      "cell_type": "code",
      "metadata": {
        "id": "hKevoIZwkji3"
      },
      "source": [
        "# Se pueden cambiar los valores del índice mediante una asignación directa\n",
        "\n",
        "s.index = ['alicante', 'villena', 'elche', 'bonete']\n",
        "s"
      ],
      "execution_count": null,
      "outputs": []
    },
    {
      "cell_type": "markdown",
      "metadata": {
        "id": "dXF8TGVLr1PD"
      },
      "source": [
        "### DataFrame"
      ]
    },
    {
      "cell_type": "code",
      "metadata": {
        "id": "biDakrslr56Z"
      },
      "source": [
        "# Se puede construir un DataFrame a partir de un diccionario de listas (o NumPy arrays) de igual longitud\n",
        "# Al igual que con las series, se creará un índice por defecto\n",
        "\n",
        "data = {'city': ['Alicante', 'Alicante', 'Alicante', 'Villena', 'Villena'],\n",
        "        'year': [2000, 2010, 2020, 2000, 2010],\n",
        "        'population': [277000, 334000, 337000, 32000, 35000]}\n",
        "df = pd.DataFrame(data)\n",
        "df"
      ],
      "execution_count": null,
      "outputs": []
    },
    {
      "cell_type": "code",
      "metadata": {
        "id": "xhgOhjJzKxOJ"
      },
      "source": [
        "# Para saber las dimensiones del DataFrame podemos acceder al atributo 'shape'\n",
        "\n",
        "df.shape"
      ],
      "execution_count": null,
      "outputs": []
    },
    {
      "cell_type": "code",
      "metadata": {
        "id": "mJJYBXgLsT4P"
      },
      "source": [
        "# Si especificamos una lista de columnas, el DataFrame se organizará en ese orden\n",
        "\n",
        "pd.DataFrame(data, columns=['year', 'city', 'population'])"
      ],
      "execution_count": null,
      "outputs": []
    },
    {
      "cell_type": "code",
      "metadata": {
        "id": "ck7ea8p3uIj2"
      },
      "source": [
        "# Podemos saber las columnas que contiene\n",
        "\n",
        "df.columns"
      ],
      "execution_count": null,
      "outputs": []
    },
    {
      "cell_type": "code",
      "metadata": {
        "id": "GWmH2gbYJ6SO"
      },
      "source": [
        "# Y también el índice\n",
        "\n",
        "df.index"
      ],
      "execution_count": null,
      "outputs": []
    },
    {
      "cell_type": "code",
      "metadata": {
        "id": "lFi0w3WIuquK"
      },
      "source": [
        "# Asignar etiquetas al índice, igual que con las series\n",
        "\n",
        "df.index = ['one', 'two', 'three', 'four', 'five']\n",
        "df"
      ],
      "execution_count": null,
      "outputs": []
    },
    {
      "cell_type": "code",
      "metadata": {
        "id": "aTFBkHjqlW72"
      },
      "source": [
        "# Renombrar un índice o columna (si no asignamos el resultado se pierde)\n",
        "\n",
        "df.rename(index={'one': 'ONE'}, columns={'year': 'YEAR'})"
      ],
      "execution_count": null,
      "outputs": []
    },
    {
      "cell_type": "code",
      "metadata": {
        "id": "kESZIbP1svf-"
      },
      "source": [
        "# Una columna equivale a una serie y se puede extraer como en un diccionario\n",
        "\n",
        "df['city']"
      ],
      "execution_count": null,
      "outputs": []
    },
    {
      "cell_type": "code",
      "metadata": {
        "id": "c2I6zUSUHu2Y"
      },
      "source": [
        "# Comprobamos el tipo de dato\n",
        "\n",
        "type(df['city'])"
      ],
      "execution_count": null,
      "outputs": []
    },
    {
      "cell_type": "code",
      "metadata": {
        "id": "JhGIYgDotFYF"
      },
      "source": [
        "# También se puede sacar como atributo\n",
        "\n",
        "df.city  # Solo funciona si el nombre de la columna es un nombre válido de variable en Python"
      ],
      "execution_count": null,
      "outputs": []
    },
    {
      "cell_type": "code",
      "metadata": {
        "id": "IWcXi6ghvaHR"
      },
      "source": [
        "# Asignar valores a sus componentes\n",
        "\n",
        "df['population'] = 0  # Cambiará todos los valores de la columna\n",
        "df"
      ],
      "execution_count": null,
      "outputs": []
    },
    {
      "cell_type": "code",
      "metadata": {
        "id": "nIh3RkKtv-k1"
      },
      "source": [
        "# Podemos añadir una nueva columna fácilmente\n",
        "\n",
        "df['country'] = 'Spain'\n",
        "df"
      ],
      "execution_count": null,
      "outputs": []
    },
    {
      "cell_type": "code",
      "metadata": {
        "id": "ZMdp6_5cwI9k"
      },
      "source": [
        "# Podemos eliminar una columna igual de fácil\n",
        "\n",
        "del df['population']\n",
        "df"
      ],
      "execution_count": null,
      "outputs": []
    },
    {
      "cell_type": "code",
      "metadata": {
        "id": "-gJT9pNFtT1h"
      },
      "source": [
        "# También se puede crear un DataFrame a partir de un diccionario anidado\n",
        "\n",
        "data2 = {'Villena': {2000: 32000, 2010: 35000},\n",
        "       'Alicante': {2000: 277000, 2010: 334000, 2020: 337000}}\n",
        "df2 = pd.DataFrame(data2)\n",
        "df2"
      ],
      "execution_count": null,
      "outputs": []
    },
    {
      "cell_type": "code",
      "metadata": {
        "id": "rAnLPPZ_xRee"
      },
      "source": [
        "# Se le puede dar la vuelta (transponer)\n",
        "\n",
        "df2.T"
      ],
      "execution_count": null,
      "outputs": []
    },
    {
      "cell_type": "code",
      "metadata": {
        "id": "hGShu5ETyBwW"
      },
      "source": [
        "# Se pueden sacar los valores de las columnas de un DataFrame, como se hacía con las series\n",
        "\n",
        "df2.values"
      ],
      "execution_count": null,
      "outputs": []
    },
    {
      "cell_type": "code",
      "metadata": {
        "id": "P0Cht81rIjpz"
      },
      "source": [
        "# Y también el índice\n",
        "\n",
        "df2.index"
      ],
      "execution_count": null,
      "outputs": []
    },
    {
      "cell_type": "markdown",
      "metadata": {
        "id": "Kn0a5Iv4SQVi"
      },
      "source": [
        "## Selección de filas y columnas"
      ]
    },
    {
      "cell_type": "code",
      "metadata": {
        "id": "VzT519jzTH_r"
      },
      "source": [
        "# Volvemos a generar los datos para hacer las siguientes pruebas\n",
        "\n",
        "data = {'city': ['Alicante', 'Alicante', 'Alicante', 'Villena', 'Villena'],\n",
        "        'year': [2000, 2010, 2020, 2000, 2010],\n",
        "        'population': [277000, 334000, 337000, 32000, 35000]}\n",
        "df = pd.DataFrame(data, index = ['one', 'two', 'three', 'four', 'five'])\n",
        "df['country'] = 'Spain'\n",
        "df"
      ],
      "execution_count": null,
      "outputs": []
    },
    {
      "cell_type": "code",
      "metadata": {
        "id": "fZp3mouJXRTg"
      },
      "source": [
        "# El método 'head' muestra las 5 primeras filas por defecto (si no se pasa parámetro)\n",
        "\n",
        "df.head(3)"
      ],
      "execution_count": null,
      "outputs": []
    },
    {
      "cell_type": "code",
      "metadata": {
        "id": "c8zqoZcHXr7r"
      },
      "source": [
        "# El método 'tail' muestra las 5 últimas filas por defecto\n",
        "\n",
        "df.tail(2)"
      ],
      "execution_count": null,
      "outputs": []
    },
    {
      "cell_type": "code",
      "metadata": {
        "id": "RHx6Bsb4VewF"
      },
      "source": [
        "# Los DataFrames pueden ser \"troceados\" como los arrays de NumPy o las listas de Python\n",
        "# Sacamos un rango de filas usando sus índices\n",
        "\n",
        "df[2:4]"
      ],
      "execution_count": null,
      "outputs": []
    },
    {
      "cell_type": "code",
      "metadata": {
        "id": "Gc4hW0HvTQbQ"
      },
      "source": [
        "# Podemos seleccionar varias columnas con una lista de etiquetas\n",
        "\n",
        "df[['city', 'population']]"
      ],
      "execution_count": null,
      "outputs": []
    },
    {
      "cell_type": "code",
      "metadata": {
        "id": "AoHSxwcwTnTy"
      },
      "source": [
        "# Los métodos 'iloc' y 'loc' permiten seleccionar un subconjunto de filas o columnas del DataFrame\n",
        "# - 'iloc' usam posiciones específicas mediante valores enteros\n",
        "# - 'loc' usa etiquetas y series booleanas\n",
        "\n",
        "df.iloc[:3, 1:3]  # Obtenemos desde el inicio hasta la fila 3, la segunda y tercera columna"
      ],
      "execution_count": null,
      "outputs": []
    },
    {
      "cell_type": "code",
      "metadata": {
        "id": "bAKL9LMdZ8db"
      },
      "source": [
        "# Podemos sacar filas salteadas\n",
        "\n",
        "df.iloc[::2]  # Saca una de cada dos filas, empezando por la primera"
      ],
      "execution_count": null,
      "outputs": []
    },
    {
      "cell_type": "code",
      "metadata": {
        "id": "0tI5JRAcT93E"
      },
      "source": [
        "# Con índices negativos podemos devolver las últimas filas\n",
        "# Equivaldría a 'df.tail(2)'\n",
        "\n",
        "df.iloc[-2:]"
      ],
      "execution_count": null,
      "outputs": []
    },
    {
      "cell_type": "code",
      "metadata": {
        "id": "-oaPsRQattNO"
      },
      "source": [
        "# Podemos sacar una fila concreta a partir de su índice\n",
        "\n",
        "df.iloc[2]"
      ],
      "execution_count": null,
      "outputs": []
    },
    {
      "cell_type": "code",
      "metadata": {
        "id": "EL_7b_BoTpMR"
      },
      "source": [
        "# Lo mismo de antes pero con 'loc', usando su etiqueta\n",
        "\n",
        "df.loc['three']"
      ],
      "execution_count": null,
      "outputs": []
    },
    {
      "cell_type": "code",
      "metadata": {
        "id": "4qZTg4DrWdGk"
      },
      "source": [
        "# Con 'loc' podemos usar etiquetas para especificar un conjunto de filas y columnas a seleccionar\n",
        "\n",
        "df.loc['two':'four', ['city', 'population']]"
      ],
      "execution_count": null,
      "outputs": []
    },
    {
      "cell_type": "code",
      "metadata": {
        "id": "yYKc38TtVoWf"
      },
      "source": [
        "# Podemos usar una serie booleana para indicar el subconjunto de filas que queremos\n",
        "\n",
        "df.loc[df['city'] == 'Villena', ['city', 'population']]"
      ],
      "execution_count": null,
      "outputs": []
    },
    {
      "cell_type": "code",
      "metadata": {
        "id": "LG2cFhd4WzTh"
      },
      "source": [
        "# Podemos hacer lo mismo con 'iloc' pero usando los valores de la serie como un array\n",
        "# Hay que usar índices para las columnas en lugar de etiquetas\n",
        "\n",
        "df.iloc[(df['city'] == 'Villena').values, [0, 2]]"
      ],
      "execution_count": null,
      "outputs": []
    },
    {
      "cell_type": "markdown",
      "metadata": {
        "id": "y5cg51H1X0mO"
      },
      "source": [
        "## Ordenación"
      ]
    },
    {
      "cell_type": "code",
      "metadata": {
        "id": "K7efMhTnXzv5"
      },
      "source": [
        "# Podemos ordenar filas y columnas usando el método 'sort_index'\n",
        "\n",
        "df.sort_index(ascending=False)  # Ordenamos el índice de manera descendente"
      ],
      "execution_count": null,
      "outputs": []
    },
    {
      "cell_type": "code",
      "metadata": {
        "id": "PcMM_Qi0YPin"
      },
      "source": [
        "# Ordenamos por columnas\n",
        "\n",
        "df.sort_index(axis=1)  # También vale axis='columns'"
      ],
      "execution_count": null,
      "outputs": []
    },
    {
      "cell_type": "code",
      "metadata": {
        "id": "d9TygWMSYd-C"
      },
      "source": [
        "# Una serie se puede ordenar por el valor de sus componentes\n",
        "\n",
        "df['year'].sort_values()"
      ],
      "execution_count": null,
      "outputs": []
    },
    {
      "cell_type": "code",
      "metadata": {
        "id": "m7Gi384bY1hw"
      },
      "source": [
        "# Podemos ordenar por una columna específica (o varias si pasamos una lista)\n",
        "\n",
        "df.sort_values(by=['year', 'city'])"
      ],
      "execution_count": null,
      "outputs": []
    },
    {
      "cell_type": "markdown",
      "metadata": {
        "id": "mBDAvTuJbafr"
      },
      "source": [
        "# Referencias\n",
        "\n",
        "* [Python for Data Analysis (2nd edition), capítulo 5](https://nbviewer.jupyter.org/github/pydata/pydata-book/blob/2nd-edition/ch05.ipynb)\n",
        "* [Python Pandas Tutorial](https://www.javatpoint.com/python-pandas)"
      ]
    }
  ]
}