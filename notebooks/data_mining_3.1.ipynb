{
  "nbformat": 4,
  "nbformat_minor": 0,
  "metadata": {
    "colab": {
      "provenance": [],
      "toc_visible": true,
      "authorship_tag": "ABX9TyMoa/7b8tDf6n4vH6RCvpzJ",
      "include_colab_link": true
    },
    "kernelspec": {
      "name": "python3",
      "display_name": "Python 3"
    }
  },
  "cells": [
    {
      "cell_type": "markdown",
      "metadata": {
        "id": "view-in-github",
        "colab_type": "text"
      },
      "source": [
        "<a href=\"https://colab.research.google.com/github/d-tomas/data-mining/blob/main/notebooks/data_mining_3.1.ipynb\" target=\"_parent\"><img src=\"https://colab.research.google.com/assets/colab-badge.svg\" alt=\"Open In Colab\"/></a>"
      ]
    },
    {
      "cell_type": "markdown",
      "metadata": {
        "id": "PLiYF3pd5gQF"
      },
      "source": [
        "# Visualización"
      ]
    },
    {
      "cell_type": "markdown",
      "metadata": {
        "id": "OnvcISE_c97V"
      },
      "source": [
        "## Pasos previos"
      ]
    },
    {
      "cell_type": "code",
      "metadata": {
        "id": "sEUrU-NmvvkS"
      },
      "source": [
        "# Instalamos la librería para visualizar diagramas de árbol\n",
        "\n",
        "!pip install squarify"
      ],
      "execution_count": null,
      "outputs": []
    },
    {
      "cell_type": "code",
      "metadata": {
        "id": "ZsKmX-5V49-2"
      },
      "source": [
        "# Importamos las librerías de Python que necesitaremos en este notebook\n",
        "\n",
        "import matplotlib.pyplot as plt\n",
        "import pandas as pd\n",
        "import seaborn as sns\n",
        "from wordcloud import WordCloud  # Para crear las nubes de palabras\n",
        "import spacy  # Para análisis de texto\n",
        "import squarify  # Para diagramas de árbol\n",
        "\n",
        "spacy.cli.download('en_core_web_md')  # Para instalar el modelo de Spacy y hacer análisis de texto en inglés\n",
        "sns.set_style('whitegrid')  # Pone una malla de fondo bastante mona para Seaborn. El tema por defecto es 'darkgrid'"
      ],
      "execution_count": null,
      "outputs": []
    },
    {
      "cell_type": "markdown",
      "metadata": {
        "id": "lySsq8wARNso"
      },
      "source": [
        "Vamos a trabajar de nuevo con un conjunto de datos en formato CSV que contiene estadísticas sobre ventas históricas de videojuegos.\n",
        "\n",
        "Cada fila contiene la siguiente información:\n",
        "\n",
        "* `Rank`: ranking de ventas totales\n",
        "* `Name`: nombre del videojuego\n",
        "* `Platform`: plataforma en la que se publicó el juego (e.g. PC, PS4, ...)\n",
        "* `Year`: año de publicación del juego\n",
        "* `Genre`: género (e.g. acción, aventuras, ...)\n",
        "* `Publisher`: compañía distribuidora\n",
        "* `NA_Sales`: ventas en Norte América (en millones)\n",
        "* `EU_Sales`: ventas en Europa (en millones)\n",
        "* `JP_Sales`: ventas en Japón (en millones)\n",
        "* `Other_Sales`: ventas en el resto del mundo (en millones)\n",
        "* `Global_Sales`: ventas mundiales totales (en millones)"
      ]
    },
    {
      "cell_type": "code",
      "metadata": {
        "id": "B1k3VoZdV9QQ"
      },
      "source": [
        "# Obtención de los ficheros CSV con los datos\n",
        "\n",
        "!wget https://raw.githubusercontent.com/d-tomas/data-mining/main/datasets/video_game_sales.csv"
      ],
      "execution_count": null,
      "outputs": []
    },
    {
      "cell_type": "code",
      "metadata": {
        "id": "ANO78ZDJcFUP"
      },
      "source": [
        "# Cargamos los datos en formato CSV\n",
        "\n",
        "data = pd.read_csv('video_game_sales.csv')\n",
        "data"
      ],
      "execution_count": null,
      "outputs": []
    },
    {
      "cell_type": "markdown",
      "metadata": {
        "id": "Jx0L9yLQvCC9"
      },
      "source": [
        "## Cuarteto de Anscombe"
      ]
    },
    {
      "cell_type": "markdown",
      "metadata": {
        "id": "7CDs-NmK4JrO"
      },
      "source": [
        "Antes de empezar a trabajar con los datos sobre venta de videojuegos, vamos a ver un ejemplo práctico de la importancia de la visualización en la interpretación de los datos."
      ]
    },
    {
      "cell_type": "code",
      "metadata": {
        "id": "d4KaGvRV4Hx4"
      },
      "source": [
        "# Descargamos los dos conjuntos de datos\n",
        "\n",
        "!wget https://raw.githubusercontent.com/d-tomas/data-mining/main/datasets/anscombe_1.csv\n",
        "!wget https://raw.githubusercontent.com/d-tomas/data-mining/main/datasets/anscombe_2.csv"
      ],
      "execution_count": null,
      "outputs": []
    },
    {
      "cell_type": "code",
      "metadata": {
        "id": "JE7kGgFxtkuX"
      },
      "source": [
        "# Creamos un DataFrame para cada uno de ellos\n",
        "\n",
        "anscombe_1 = pd.read_csv('anscombe_1.csv')\n",
        "anscombe_2 = pd.read_csv('anscombe_2.csv')"
      ],
      "execution_count": null,
      "outputs": []
    },
    {
      "cell_type": "code",
      "metadata": {
        "id": "vek50wPc6MBa"
      },
      "source": [
        "# Los mostramos a ver qué pinta tienen\n",
        "\n",
        "anscombe_1"
      ],
      "execution_count": null,
      "outputs": []
    },
    {
      "cell_type": "code",
      "metadata": {
        "id": "1eRe0oHR6iN0"
      },
      "source": [
        "# Y el otro\n",
        "\n",
        "anscombe_2"
      ],
      "execution_count": null,
      "outputs": []
    },
    {
      "cell_type": "code",
      "metadata": {
        "id": "2tbK24m5471X"
      },
      "source": [
        "# Calculamos sus estadísticas básicas: media, desviación estándar y correlación\n",
        "\n",
        "print('Dataset Anscombe 1')\n",
        "print('Muestras: ' + str())\n",
        "print('Media x: ' + '{:.3f}'.format(anscombe_1.mean()['x']))\n",
        "print('Media y: ' + '{:.3f}'.format(anscombe_1.mean()['y']))\n",
        "print('Desviación x: ' + '{:.3f}'.format(anscombe_1.std()['x']))\n",
        "print('Desviación y: ' + '{:.3f}'.format(anscombe_1.std()['y']))\n",
        "print('Correlación: ' + '{:.3f}'.format(anscombe_1.corr()['x']['y']))"
      ],
      "execution_count": null,
      "outputs": []
    },
    {
      "cell_type": "code",
      "metadata": {
        "id": "It8fMHdx6w3V"
      },
      "source": [
        "# Lo mismo para el segundo dataset\n",
        "\n",
        "print('Dataset Anscombe 2')\n",
        "print('Media x: ' + '{:.3f}'.format(anscombe_2.mean()['x']))\n",
        "print('Media y: ' + '{:.3f}'.format(anscombe_2.mean()['y']))\n",
        "print('Desviación x: ' + '{:.3f}'.format(anscombe_2.std()['x']))\n",
        "print('Desviación y: ' + '{:.3f}'.format(anscombe_2.std()['y']))\n",
        "print('Correlación: ' + '{:.3f}'.format(anscombe_2.corr()['x']['y']))"
      ],
      "execution_count": null,
      "outputs": []
    },
    {
      "cell_type": "code",
      "metadata": {
        "id": "silkrURyw1sZ"
      },
      "source": [
        "# Visualizamos el primer dataset\n",
        "\n",
        "sns.scatterplot(data=anscombe_1, x='x', y='y')\n",
        "plt.show()"
      ],
      "execution_count": null,
      "outputs": []
    },
    {
      "cell_type": "code",
      "metadata": {
        "id": "vW7iJW9wtvuw"
      },
      "source": [
        "# Visualizamos el segundo dataset\n",
        "\n",
        "sns.scatterplot(data=anscombe_2, x='x', y='y', color='green')\n",
        "plt.show()"
      ],
      "execution_count": null,
      "outputs": []
    },
    {
      "cell_type": "markdown",
      "metadata": {
        "id": "a1Q0zhlXhIDj"
      },
      "source": [
        "## Diagrama de barras"
      ]
    },
    {
      "cell_type": "code",
      "metadata": {
        "id": "zdh025cihHoq"
      },
      "source": [
        "# ¿Qué año se vendieron más videojuegos?\n",
        "# Se puede considerar 'Year' como un valor discreto, por lo que un diagrama de barras es adecuado\n",
        "\n",
        "plt.figure(figsize=(14,7))\n",
        "sns.countplot(x='Year', data=data)\n",
        "plt.xticks(rotation=-45)  # Rotamos las etiquetas para que no se solapen\n",
        "plt.show()"
      ],
      "execution_count": null,
      "outputs": []
    },
    {
      "cell_type": "code",
      "metadata": {
        "id": "FzRCXHtWyhzH"
      },
      "source": [
        "# Por cierto, los diagramas se pueden guardar en fichero\n",
        "\n",
        "plt.figure(figsize=(14,7))\n",
        "sns.countplot(x='Year', data=data)\n",
        "plt.xticks(rotation=-45)  # Rotamos las etiquetas para que no se solapen\n",
        "plt.savefig('grafico.png')  # Fichero de salida"
      ],
      "execution_count": null,
      "outputs": []
    },
    {
      "cell_type": "code",
      "metadata": {
        "id": "mM5RxR7kNLFA"
      },
      "source": [
        "# ¡Un diagrama de barras se puede ordenar!\n",
        "\n",
        "plt.figure(figsize=(14, 7))\n",
        "sns.countplot(x='Year', data=data, order=data['Year'].value_counts().index)\n",
        "# Si además queremos quitar la molesta parte decimal de las etiquetas del eje x...\n",
        "locs, labels = plt.xticks()\n",
        "labels = [int(t) for t in data['Year'].value_counts().index]\n",
        "plt.xticks(locs, labels, rotation=-45)\n",
        "plt.show()\n"
      ],
      "execution_count": null,
      "outputs": []
    },
    {
      "cell_type": "code",
      "metadata": {
        "id": "yjgEoo8TO-Yh"
      },
      "source": [
        "# Otro ejemplo: ¿qué plataforma tiene más juegos en este ranking?\n",
        "\n",
        "plt.figure(figsize=(14,7))\n",
        "sns.countplot(x='Platform', data=data, order=data['Platform'].value_counts().index)\n",
        "plt.xticks(rotation=-45)\n",
        "plt.show()"
      ],
      "execution_count": null,
      "outputs": []
    },
    {
      "cell_type": "code",
      "metadata": {
        "id": "6-abWARRPdHf"
      },
      "source": [
        "# Y ya que estamos, ¿qué género es el más popular?\n",
        "\n",
        "plt.figure(figsize=(14,7))\n",
        "sns.countplot(x='Genre', data=data, order=data['Genre'].value_counts().index)\n",
        "plt.xticks(rotation=-45)\n",
        "plt.show()"
      ],
      "execution_count": null,
      "outputs": []
    },
    {
      "cell_type": "code",
      "metadata": {
        "id": "erOnfUlkr8Jq"
      },
      "source": [
        "# Número de juegos por género en los tres años con más juegos publicados\n",
        "# Podemos añadir una dimensión más a la visualización con el parámetro 'hue'\n",
        "\n",
        "plt.figure(figsize=(14, 7))\n",
        "sns.countplot(x='Year', data=data, hue='Genre', order=data['Year'].value_counts().iloc[:3].index)\n",
        "plt.legend(bbox_to_anchor=(1.01, 1.01), loc=2)  # Para sacar la leyenda fuera del gráfico\n",
        "plt.show()"
      ],
      "execution_count": null,
      "outputs": []
    },
    {
      "cell_type": "code",
      "metadata": {
        "id": "sREYLEDOgHeG"
      },
      "source": [
        "# ¿Y qué compañía ha lanzado más juegos al mercado?\n",
        "# Usamos 'barplot' en lugar de 'countplot' porque en 'publisher_counts' ya tenemos la cuenta hecha\n",
        "\n",
        "publisher_counts = data['Publisher'].value_counts()[:20]  # Nos quedamos con los veinte primeros\n",
        "\n",
        "plt.figure(figsize=(14,7))\n",
        "sns.barplot(x=publisher_counts.index, y=publisher_counts.values)\n",
        "plt.xticks(rotation=90)  # Rotamos las etiquetas para que no se solapen\n",
        "plt.show()"
      ],
      "execution_count": null,
      "outputs": []
    },
    {
      "cell_type": "code",
      "metadata": {
        "id": "MdKRhDvwPoT0"
      },
      "source": [
        "# Lo realmente importantes: ¿qué compañía ha vendido más juegos todos estos años?\n",
        "# Podemos usar 'barplot' de nuevo para eso\n",
        "\n",
        "publisher_sales = data.groupby(by=['Publisher'])['Global_Sales'].sum()  # Agrupamos ventas por compañía\n",
        "publisher_sales = publisher_sales.sort_values(ascending=False)[:20]  # Nos quedamos con el Top 20\n",
        "\n",
        "plt.figure(figsize=(14, 7))\n",
        "sns.barplot(x=publisher_sales.index, y=publisher_sales.values)\n",
        "plt.xticks(rotation=90)\n",
        "plt.show()"
      ],
      "execution_count": null,
      "outputs": []
    },
    {
      "cell_type": "markdown",
      "metadata": {
        "id": "xILdH97GfWBE"
      },
      "source": [
        "## Histograma"
      ]
    },
    {
      "cell_type": "code",
      "metadata": {
        "id": "oHYujWMsfXp7"
      },
      "source": [
        "# ¿Qué año se vendieron más videojuegos?\n",
        "# Los años se pueden considerar valores discretos, por lo que mejor un diagrama de barras que un histograma, pero bueno\n",
        "\n",
        "plt.figure(figsize=(14,7))  # Fijamos el tamaño de la figura con Matplotlib\n",
        "sns.histplot(x='Year', data=data)\n",
        "plt.show()"
      ],
      "execution_count": null,
      "outputs": []
    },
    {
      "cell_type": "code",
      "metadata": {
        "id": "MlG1b2x1D9Ve"
      },
      "source": [
        "# Podemos definir el conjunto de contenedores (bins) del eje x\n",
        "\n",
        "plt.figure(figsize=(14,7))\n",
        "sns.histplot(x='Year', data=data, bins=[x for x in range(1980,2020)])\n",
        "plt.show()"
      ],
      "execution_count": null,
      "outputs": []
    },
    {
      "cell_type": "code",
      "metadata": {
        "id": "3iJwbq9tmZxB"
      },
      "source": [
        "# Podemos tener un gráfico apilado (multiple='stack') donde se distingan los juegos de cada género por año\n",
        "# Otra opción interesante de visualización es multiple='fill'\n",
        "# El parámetro 'hue' permite añadir una dimensión más al gráfico\n",
        "\n",
        "plt.figure(figsize=(14, 7))\n",
        "sns.histplot(x='Year', data=data, bins=[x for x in range(1980,2020)], hue='Genre', multiple='stack')\n",
        "plt.show()"
      ],
      "execution_count": null,
      "outputs": []
    },
    {
      "cell_type": "markdown",
      "metadata": {
        "id": "-VA67_HHZFFU"
      },
      "source": [
        "## Diagrama de densidad"
      ]
    },
    {
      "cell_type": "code",
      "metadata": {
        "id": "c771Lhp6bN7o"
      },
      "source": [
        "# Podemos usar la estimación de densidad de kernel para obtener un gráfico más suavizado\n",
        "# Ya no hay que preocuparse del número de contenedores (bins)\n",
        "\n",
        "plt.figure(figsize=(14,7))\n",
        "sns.kdeplot(data=data, x='Year')\n",
        "plt.show()"
      ],
      "execution_count": null,
      "outputs": []
    },
    {
      "cell_type": "code",
      "metadata": {
        "id": "5VqPnikeabMC"
      },
      "source": [
        "# Podemos superponer el gráfico de densidad al histograma anterior\n",
        "# Añadimos al 'histplot' el parámetro 'kde=True'\n",
        "\n",
        "plt.figure(figsize=(14,7))\n",
        "sns.histplot(x='Year', data=data, bins=[x for x in range(1980,2020)], kde=True)\n",
        "plt.show()"
      ],
      "execution_count": null,
      "outputs": []
    },
    {
      "cell_type": "markdown",
      "metadata": {
        "id": "oKpJrMDWrQlH"
      },
      "source": [
        "## Diagrama de líneas"
      ]
    },
    {
      "cell_type": "code",
      "metadata": {
        "id": "DdnRQmZ5rO_3"
      },
      "source": [
        "# Comparamos cómo evolucionan las ventas en los distintos países a lo largo de los años\n",
        "\n",
        "year_sales = data[['Year', 'NA_Sales', 'EU_Sales', 'JP_Sales', 'Other_Sales']].groupby(by='Year').sum()\n",
        "\n",
        "plt.figure(figsize=(14, 7))\n",
        "sns.lineplot(data=year_sales)\n",
        "plt.show()"
      ],
      "execution_count": null,
      "outputs": []
    },
    {
      "cell_type": "code",
      "metadata": {
        "id": "5q4fKg8PAao7"
      },
      "source": [
        "# Podemos superponer el diagrama de líneas a un gráfico de barras para comparar diferentes dimensiones\n",
        "# En este caso, comparamos el número de juegos publicados en un género (barras) con sus ventas (líneas)\n",
        "\n",
        "# Diagrama de barras\n",
        "genre_sales = data['Genre'].value_counts()\n",
        "fig, ax = plt.subplots(figsize=(14,7))  # Vamos a superponer dos gráficas\n",
        "sns.countplot(x='Genre', data=data, order=genre_sales.index)  # Ordenamos por mayor ventas\n",
        "plt.xticks(rotation=-45)  # Rotamos las etiquetas para que no se solapen\n",
        "\n",
        "# Diagrama de líneas\n",
        "genre_sales2 = data.groupby(by=['Genre'])['Global_Sales'].sum()  # Agrupamos ventas por género\n",
        "genre_sales2 = genre_sales2.sort_values(ascending=False)\n",
        "genre_sales2 = genre_sales2.reindex(index = genre_sales.index)\n",
        "ax.grid(False)  # Evitamos que se muestren dos mayas\n",
        "ax.twinx()\n",
        "sns.lineplot(x=genre_sales2.index, y=genre_sales2.values)\n",
        "plt.xticks(rotation=-45)\n",
        "plt.show()"
      ],
      "execution_count": null,
      "outputs": []
    },
    {
      "cell_type": "markdown",
      "metadata": {
        "id": "gDqveIzZ9AQL"
      },
      "source": [
        "## Diagrama de dispersión"
      ]
    },
    {
      "cell_type": "code",
      "metadata": {
        "id": "9LgA2tbmkr0X"
      },
      "source": [
        "# ¿Qué relación hay entre número de lanzamientos y las ventas globales?\n",
        "# De nuevo, el argumento 'hue' de 'relplot' nos permite expresar una tercera dimensión mediante el color\n",
        "\n",
        "combined = pd.concat([publisher_counts, publisher_sales], axis=1).dropna()\n",
        "\n",
        "sns.relplot(x='count', y='Global_Sales', hue='Publisher', data=combined, height=7)\n",
        "plt.show()\n",
        "\n",
        "# También se puede usar 'lmplot' y 'scatterplot' para comparar variables numéricas\n",
        "# Lo mismo con 'lmplot': sns.lmplot(x='count', y='Global_Sales', hue='Publisher', data=combined, height=7)\n",
        "# Lo mismo con 'scatterplot': sns.scatterplot(x='count', y='Global_Sales', hue='Publisher', data=combined)"
      ],
      "execution_count": null,
      "outputs": []
    },
    {
      "cell_type": "code",
      "metadata": {
        "id": "_S9APJp98_MP"
      },
      "source": [
        "# ¿Qué relación hay entre ventas en Europa y Estados Unidos?\n",
        "\n",
        "sns.relplot(x='EU_Sales', y='NA_Sales', hue='Genre', data=data, height=7)\n",
        "plt.show()"
      ],
      "execution_count": null,
      "outputs": []
    },
    {
      "cell_type": "code",
      "metadata": {
        "id": "ASubL7kuAgdQ"
      },
      "source": [
        "# Si cambiamos los límites de los ejes, se ve mejor el mogollón\n",
        "\n",
        "sns.relplot(x='EU_Sales', y='NA_Sales', hue='Genre', data=data, height=7)\n",
        "plt.ylim(0, 2)  # Valores límite del eje y\n",
        "plt.xlim(0, 2)\n",
        "plt.show()"
      ],
      "execution_count": null,
      "outputs": []
    },
    {
      "cell_type": "markdown",
      "metadata": {
        "id": "xRSdj8TCGWGk"
      },
      "source": [
        "## Mapa de calor"
      ]
    },
    {
      "cell_type": "code",
      "metadata": {
        "id": "njWQACeT20iS"
      },
      "source": [
        "# Ventas globales por plataforma\n",
        "\n",
        "platform_sales = data[['Platform', 'Global_Sales', 'NA_Sales', 'EU_Sales', 'JP_Sales', 'Other_Sales']].groupby(by=['Platform']).sum()\n",
        "platform_sales = platform_sales.sort_values(by='Global_Sales', ascending=False)[:10]  # Nos quedamos con el Top 10\n",
        "\n",
        "plt.figure(figsize=(14, 10))\n",
        "sns.heatmap(platform_sales, annot=True, fmt='.2f', linewidth=3, cmap='Blues')\n",
        "plt.yticks(rotation=0)\n",
        "plt.show()"
      ],
      "execution_count": null,
      "outputs": []
    },
    {
      "cell_type": "code",
      "metadata": {
        "id": "EnYDmtrvBp55"
      },
      "source": [
        "# Calculamos la correlación entre ventas con 'corr'\n",
        "# Usamos 'spearman' en lugar de 'pearson' para la correlación porque las variables no siguen una distribución normal\n",
        "\n",
        "plt.figure(figsize=(14,10))\n",
        "sns.heatmap(data[['NA_Sales', 'EU_Sales', 'JP_Sales', 'Other_Sales', 'Global_Sales']].corr('spearman'), annot=True, linewidth=3)\n",
        "plt.show()"
      ],
      "execution_count": null,
      "outputs": []
    },
    {
      "cell_type": "markdown",
      "metadata": {
        "id": "Id2LL-DyDWRu"
      },
      "source": [
        "## Diagrama de caja"
      ]
    },
    {
      "cell_type": "code",
      "metadata": {
        "id": "-3Z6Oc9o4kUM"
      },
      "source": [
        "# Para cada año contamos cuántos juegos hay de cada género y creamos un nuevo DataFrame\n",
        "\n",
        "data2 = pd.DataFrame(columns=data['Genre'].unique())\n",
        "for column in data2:\n",
        "  data2[column] = data[data['Genre'] == column].groupby(by=['Year']).count()['Rank']  # 'Rank' o cualquier otra\n",
        "data2"
      ],
      "execution_count": null,
      "outputs": []
    },
    {
      "cell_type": "code",
      "metadata": {
        "id": "rNA_1ipf2AFd"
      },
      "source": [
        "# Mostramos la distribución de número de juegos por género a lo largo de los años\n",
        "\n",
        "plt.figure(figsize=(15, 10))\n",
        "sns.boxplot(data=data2)\n",
        "plt.show()"
      ],
      "execution_count": null,
      "outputs": []
    },
    {
      "cell_type": "code",
      "metadata": {
        "id": "xzPLKQU62k9F"
      },
      "source": [
        "# Resumen de cinco números de la distribución\n",
        "\n",
        "data2.describe()"
      ],
      "execution_count": null,
      "outputs": []
    },
    {
      "cell_type": "markdown",
      "metadata": {
        "id": "pC8N68XM4PIs"
      },
      "source": [
        "## Diagrama de enjambre"
      ]
    },
    {
      "cell_type": "code",
      "metadata": {
        "id": "WFDDXc454SIm"
      },
      "source": [
        "# Para el caso de número de juegos por plataforma y año no tenemos muchas muestras (40 por género, más o menos)\n",
        "# El diagrama de enjambre permite ver cómo se distribuyen los puntos concretos en la gráfica\n",
        "# Cada punto representa el número de juegos vendido uno de los años\n",
        "\n",
        "plt.figure(figsize=(15, 10))\n",
        "sns.swarmplot(data=data2)\n",
        "plt.show()"
      ],
      "execution_count": null,
      "outputs": []
    },
    {
      "cell_type": "code",
      "metadata": {
        "id": "XP78zyEp5aQP"
      },
      "source": [
        "# Podemos superponer el gráfico de enjambre sobre el diagrama de caja para ver mejor cómo se distribuyen los puntos\n",
        "\n",
        "plt.figure(figsize=(15, 10))\n",
        "sns.boxplot(data=data2)\n",
        "sns.swarmplot(data=data2, color='black', alpha=0.7)  # Puntos negros y ligeramente transparentes\n",
        "plt.show()"
      ],
      "execution_count": null,
      "outputs": []
    },
    {
      "cell_type": "markdown",
      "metadata": {
        "id": "eGFqZQ0zE_1W"
      },
      "source": [
        "## Diagrama de violín"
      ]
    },
    {
      "cell_type": "code",
      "metadata": {
        "id": "qs6jo15kEQl7"
      },
      "source": [
        "# Seguimos con la distribución de géneros a lo largo de los años\n",
        "\n",
        "plt.figure(figsize=(15, 10))\n",
        "sns.violinplot(data=data2)\n",
        "plt.show()"
      ],
      "execution_count": null,
      "outputs": []
    },
    {
      "cell_type": "code",
      "metadata": {
        "id": "zwUhzDohcfao"
      },
      "source": [
        "# Podemos rizar el rizo combinando el diagrama de violín y el gráfico de enjambre\n",
        "\n",
        "plt.figure(figsize=(15,10))\n",
        "sns.violinplot(data=data2, inner=None)  # Ocultamos las barras dentro del gráfico\n",
        "sns.swarmplot(data=data2, color='black', alpha=0.7)\n",
        "plt.show()"
      ],
      "execution_count": null,
      "outputs": []
    },
    {
      "cell_type": "markdown",
      "metadata": {
        "id": "RmJNkSGlvOmd"
      },
      "source": [
        "## Diagrama de árbol"
      ]
    },
    {
      "cell_type": "code",
      "metadata": {
        "id": "ZwYT5CnCvQ_G"
      },
      "source": [
        "# Creamos un diagrama de árbol donde se vea la distribución de juegos por plataforma\n",
        "# Limitamos a las 20 plataformas con más juegos, para no saturar el diagrama\n",
        "\n",
        "games_platform = data['Platform'].value_counts()[:20]\n",
        "\n",
        "plt.figure(figsize=(14,10))\n",
        "squarify.plot(sizes=games_platform.values, label=games_platform.index, alpha=.8)\n",
        "plt.axis('off')  # Ocultamos los valores de los ejes\n",
        "plt.show()"
      ],
      "execution_count": null,
      "outputs": []
    },
    {
      "cell_type": "markdown",
      "metadata": {
        "id": "rrjxOCFHAuCk"
      },
      "source": [
        "## Nube de palabras"
      ]
    },
    {
      "cell_type": "code",
      "metadata": {
        "id": "t8xxiHdSAvw_"
      },
      "source": [
        "# Vamos a sacar todas las palabras individuales que aparecen en los nombres de los videojuegos\n",
        "# La librería SpaCy nos va a ayudar a extraer las palabras\n",
        "\n",
        "nlp = spacy.load('en_core_web_md')  # Cargamos el modelo en inglés para que Spacy use las herramientas lingüísticas de este idioma\n",
        "\n",
        "list_words = [x.split() for x in data['Name'].values]  # Obtenemos todas las palabras individuales para cada nombre\n",
        "list_words = ' '.join([word for sublist in list_words for word in sublist])  # Las juntamos todas en un único texto\n",
        "\n",
        "corpus = nlp(list_words)  # Procesamos las palabras con SpaCy\n",
        "tokens = [w.lower_ for w in corpus if (not w.is_space and not w.is_punct)]  # Eliminamos espacios en blanco y signos de puntuación\n",
        "corpus = ' '.join(tokens)  # Ya tenemos la lista de palabras limpia"
      ],
      "execution_count": null,
      "outputs": []
    },
    {
      "cell_type": "code",
      "metadata": {
        "id": "GaPX7Yn9UaHY"
      },
      "source": [
        "# Mostramos la nube de palabras en una imagen\n",
        "\n",
        "wordcloud = WordCloud(width=800, height=800, background_color='white', min_font_size=10).generate(corpus)\n",
        "plt.figure(figsize=(7, 7), facecolor=None)\n",
        "plt.imshow(wordcloud)\n",
        "plt.axis('off')\n",
        "plt.tight_layout(pad=0)\n",
        "plt.show()"
      ],
      "execution_count": null,
      "outputs": []
    },
    {
      "cell_type": "markdown",
      "metadata": {
        "id": "32Q-e_2cC7_x"
      },
      "source": [
        "# Referencias\n",
        "\n",
        "* [Video Game Sales](https://www.kaggle.com/gregorut/videogamesales)\n",
        "* [Pyplot tutorial](https://matplotlib.org/tutorials/introductory/pyplot.html)\n",
        "* [Datasaurus](http://www.thefunctionalart.com/2016/08/download-datasaurus-never-trust-summary.html)"
      ]
    }
  ]
}