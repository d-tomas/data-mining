{
  "nbformat": 4,
  "nbformat_minor": 0,
  "metadata": {
    "colab": {
      "provenance": [],
      "toc_visible": true,
      "authorship_tag": "ABX9TyNBPRGgtlZwTn2izevb/frW",
      "include_colab_link": true
    },
    "kernelspec": {
      "name": "python3",
      "display_name": "Python 3"
    }
  },
  "cells": [
    {
      "cell_type": "markdown",
      "metadata": {
        "id": "view-in-github",
        "colab_type": "text"
      },
      "source": [
        "<a href=\"https://colab.research.google.com/github/d-tomas/data-mining/blob/main/notebooks/data_mining_2.2.ipynb\" target=\"_parent\"><img src=\"https://colab.research.google.com/assets/colab-badge.svg\" alt=\"Open In Colab\"/></a>"
      ]
    },
    {
      "cell_type": "markdown",
      "metadata": {
        "id": "uT78V4SiQpnG"
      },
      "source": [
        "# Limpieza y preparación de los datos\n",
        "\n",
        "Este *notebook* explora un conjunto de datos de ventas históricas de videojuegos, que abarca varias plataformas, géneros y editores. El objetivo es poner en práctica las operaciones fundamentales de la librería *Pandas*.\n",
        "\n",
        "Empezaremos con la carga y la limpieza de los datos, mostrando cómo manejar valores faltantes y duplicados. Luego, profundizaremos en el análisis descriptivo de los datos utilizando varias funciones de *Pandas* para obtener información sobre la distribución de los datos, las tendencias centrales y otras estadísticas. Además, estos ejemplos representan cómo realizar operaciones y manipulaciones en los datos, incluyendo filtrado, agrupación y transformación de datos."
      ]
    },
    {
      "cell_type": "markdown",
      "metadata": {
        "id": "OnvcISE_c97V"
      },
      "source": [
        "## Pasos previos"
      ]
    },
    {
      "cell_type": "code",
      "metadata": {
        "id": "ZsKmX-5V49-2"
      },
      "source": [
        "# Importamos las librerías de Python que necesitaremos en este notebook\n",
        "\n",
        "import pandas as pd"
      ],
      "execution_count": null,
      "outputs": []
    },
    {
      "cell_type": "markdown",
      "metadata": {
        "id": "lySsq8wARNso"
      },
      "source": [
        "Vamos a trabajar con un conjunto de datos en formato CSV que contiene estadísticas sobre ventas históricas de videojuegos.\n",
        "\n",
        "Cada fila contiene la siguiente información:\n",
        "\n",
        "* `Rank`: ranking de ventas totales\n",
        "* `Name`: nombre del videojuego\n",
        "* `Platform`: plataforma en la que se publicó el juego (e.g. PC, PS4, ...)\n",
        "* `Year`: año de publicación del juego\n",
        "* `Genre`: género (e.g. acción, aventuras, ...)\n",
        "* `Publisher`: compañía distribuidora\n",
        "* `NA_Sales`: ventas en Norte América (en millones)\n",
        "* `EU_Sales`: ventas en Europa (en millones)\n",
        "* `JP_Sales`: ventas en Japón (en millones)\n",
        "* `Other_Sales`: ventas en el resto del mundo (en millones)\n",
        "* `Global_Sales`: ventas mundiales totales (en millones)"
      ]
    },
    {
      "cell_type": "code",
      "metadata": {
        "id": "-vuzvuWIIBE7"
      },
      "source": [
        "# Obtención del fichero CSV con los datos\n",
        "\n",
        "!wget https://raw.githubusercontent.com/d-tomas/data-mining/main/datasets/video_game_sales.csv"
      ],
      "execution_count": null,
      "outputs": []
    },
    {
      "cell_type": "markdown",
      "metadata": {
        "id": "av2F6ijvcFUH"
      },
      "source": [
        "## Lectura y escritura de datos"
      ]
    },
    {
      "cell_type": "code",
      "metadata": {
        "id": "ANO78ZDJcFUP"
      },
      "source": [
        "# Cargamos los datos en formato CSV\n",
        "# Se podría también pasar directamente la URL del dataset a 'read_csv'\n",
        "\n",
        "data = pd.read_csv('video_game_sales.csv')\n",
        "data  # Para mostrar los datos y ver qué pinta tienen"
      ],
      "execution_count": null,
      "outputs": []
    },
    {
      "cell_type": "code",
      "metadata": {
        "id": "DUhgB0oZ6O_R"
      },
      "source": [
        "# El método 'read_csv' cuenta con unos cuantos parámetros adicionales\n",
        "# Si no asignamos la salida a una variable se pierde\n",
        "\n",
        "pd.read_csv('video_game_sales.csv', header=None)  # No usar la primera línea como cabecera"
      ],
      "execution_count": null,
      "outputs": []
    },
    {
      "cell_type": "code",
      "metadata": {
        "id": "pnhXgQYnArP1"
      },
      "source": [
        "# Usar una columna del fichero CSV como índice\n",
        "# También se puede usar el número de columna. Ej. \"index_col=0\"\n",
        "\n",
        "pd.read_csv('video_game_sales.csv', index_col='Rank')"
      ],
      "execution_count": null,
      "outputs": []
    },
    {
      "cell_type": "code",
      "metadata": {
        "id": "mwS13awo6TRp"
      },
      "source": [
        "# Incluir nuestros propios nombres de columnas\n",
        "\n",
        "pd.read_csv('video_game_sales.csv', skiprows=1,\n",
        "            names=['Posición', 'Nombre', 'Plataforma', 'Año', 'Género', 'Distribuidora',\n",
        "                   'Ventas NA', 'Ventas EU', 'Ventas JP', 'Ventas Otros', 'Ventas Globales'])"
      ],
      "execution_count": null,
      "outputs": []
    },
    {
      "cell_type": "code",
      "metadata": {
        "id": "iv-rMXKVdDkF"
      },
      "source": [
        "# Leer solo una parte del fichero (útil para ficheros grandes)\n",
        "\n",
        "pd.read_csv('video_game_sales.csv', nrows=7)"
      ],
      "execution_count": null,
      "outputs": []
    },
    {
      "cell_type": "markdown",
      "metadata": {
        "id": "vN-RFxlObrNh"
      },
      "source": [
        "Hay muchas otras funciones de parsing en Pandas. Algunas de las más populares son:\n",
        "\n",
        "* `read_table`: lee datos con columnas delimitadas, usando el tabulador (`\\t`) como carácter separador por defecto\n",
        "* `read_fwf`: lee datos separados por columnas de anchura fija (sin delimitadores)\n",
        "* `read_excel`: lee datos tabulares de ficheros Excel (XLS or XLSX)\n",
        "* `read_hdf`: lee ficheros en formato HDF5\n",
        "* `read_html`: lee las tablas de un documento HTML\n",
        "* `read_json`: lee datos en formato JSON\n",
        "* `read_sql`: lee los resultados de una consulta SQL"
      ]
    },
    {
      "cell_type": "code",
      "metadata": {
        "id": "RMV7gIRLeHnP"
      },
      "source": [
        "# También se pueden escribir los datos en fichero\n",
        "# Podemos indicar el carácter separador, el subconjunto de columnas, si queremos índice o no,...\n",
        "\n",
        "data[:25].to_csv('subset.csv', sep='|', columns=['Name','Year'], index=False)\n",
        "!cat subset.csv"
      ],
      "execution_count": null,
      "outputs": []
    },
    {
      "cell_type": "markdown",
      "metadata": {
        "id": "bff4nwQABNMM"
      },
      "source": [
        "## Descripción de los datos"
      ]
    },
    {
      "cell_type": "code",
      "metadata": {
        "id": "lB1Hfsd4oFFR"
      },
      "source": [
        "# El método 'info' muestra un resumen del DataFrame\n",
        "\n",
        "data.info()"
      ],
      "execution_count": null,
      "outputs": []
    },
    {
      "cell_type": "code",
      "metadata": {
        "id": "wKOwFjUspKOU"
      },
      "source": [
        "# El método 'describe' genera estadísticas descriptivas: tendencia central, dispersión y forma de la distribución\n",
        "# No tiene en cuenta los valores NaN en los cálculos\n",
        "\n",
        "data.describe()"
      ],
      "execution_count": null,
      "outputs": []
    },
    {
      "cell_type": "code",
      "metadata": {
        "id": "YUtD-v6ypMac"
      },
      "source": [
        "# Se puede incluir en la descripción solo aquellas columnas de un determinado tipo\n",
        "\n",
        "data.describe(include=['object'])"
      ],
      "execution_count": null,
      "outputs": []
    },
    {
      "cell_type": "code",
      "metadata": {
        "id": "mUs9aALRejsw"
      },
      "source": [
        "# Descripción de los datos de una columna (serie)\n",
        "\n",
        "genre = data['Genre']  # Vamos a trastear con la columna 'Genre'\n",
        "genre.describe()"
      ],
      "execution_count": null,
      "outputs": []
    },
    {
      "cell_type": "code",
      "metadata": {
        "id": "71-KCy2teN3T"
      },
      "source": [
        "# Número de veces se repite cada valor de la serie\n",
        "\n",
        "genre.value_counts()"
      ],
      "execution_count": null,
      "outputs": []
    },
    {
      "cell_type": "code",
      "metadata": {
        "id": "XbWJeXvfFUez"
      },
      "source": [
        "# Podemos ordenar por el índice (en este caso, cada uno de los géneros)\n",
        "\n",
        "genre.value_counts().sort_index()"
      ],
      "execution_count": null,
      "outputs": []
    },
    {
      "cell_type": "code",
      "source": [
        "# Y también podemos ordenar por los valores\n",
        "\n",
        "genre.value_counts().sort_values(ascending=True)"
      ],
      "metadata": {
        "id": "B_aYQtslpcUg"
      },
      "execution_count": null,
      "outputs": []
    },
    {
      "cell_type": "code",
      "metadata": {
        "id": "EE-kzh-ibPdo"
      },
      "source": [
        "# Valores únicos de una serie\n",
        "\n",
        "genre.unique()"
      ],
      "execution_count": null,
      "outputs": []
    },
    {
      "cell_type": "markdown",
      "metadata": {
        "id": "W2SlNsQoGexr"
      },
      "source": [
        "## Operaciones sobre Series"
      ]
    },
    {
      "cell_type": "code",
      "metadata": {
        "id": "w7HWjuw4ex01"
      },
      "source": [
        "# Reemplazar valores de la serie\n",
        "\n",
        "genre = genre.replace('Role-Playing', 'RPG')\n",
        "genre.unique()"
      ],
      "execution_count": null,
      "outputs": []
    },
    {
      "cell_type": "code",
      "metadata": {
        "id": "3sjua9hkO_2a"
      },
      "source": [
        "# Podemos aplicar operaciones simultáneas a todos los elementos de la serie\n",
        "\n",
        "global_sales = data['Global_Sales']  # Nos quedamos con la columna de ventas globales\n",
        "global_sales.describe()"
      ],
      "execution_count": null,
      "outputs": []
    },
    {
      "cell_type": "code",
      "metadata": {
        "id": "UX6LPVi2fxke"
      },
      "source": [
        "# Multiplicamos todas las ventas por 1 millón\n",
        "\n",
        "global_sales = global_sales * 1000000\n",
        "global_sales.describe()"
      ],
      "execution_count": null,
      "outputs": []
    },
    {
      "cell_type": "code",
      "metadata": {
        "id": "qE4C5lI1Ki4P"
      },
      "source": [
        "# Si queremos ver la salida con un formato más amigable para los humanos\n",
        "\n",
        "pd.set_option('float_format', '{:.2f}'.format)\n",
        "global_sales.describe()"
      ],
      "execution_count": null,
      "outputs": []
    },
    {
      "cell_type": "code",
      "metadata": {
        "id": "6g6rdFsoLjzE"
      },
      "source": [
        "# También podemos aplicar operaciones a datos textuales, como concatenar una cadena\n",
        "\n",
        "genre = 'Cat_' + genre\n",
        "genre.unique()"
      ],
      "execution_count": null,
      "outputs": []
    },
    {
      "cell_type": "code",
      "metadata": {
        "id": "4wF4CaeBM0Gt"
      },
      "source": [
        "# También hay funciones de cadenas para series\n",
        "# Si no asignamos la salida a una variable se pierde\n",
        "\n",
        "genre.str.split('_').str[-1]  # Podemos quitar el 'Cat_' que hemos añadido antes"
      ],
      "execution_count": null,
      "outputs": []
    },
    {
      "cell_type": "code",
      "metadata": {
        "id": "1Sc6sdf0OJYS"
      },
      "source": [
        "# Podemos pasar todos los valores a minúsculas\n",
        "\n",
        "genre.str.lower()"
      ],
      "execution_count": null,
      "outputs": []
    },
    {
      "cell_type": "markdown",
      "metadata": {
        "id": "HgfEzuNXvfxs"
      },
      "source": [
        "Algunos otros métodos útiles para la manipulación de cadenas son:\n",
        "\n",
        "* `count`: devuelve el número de ocurrencias de una subcadena dentro de una cadena\n",
        "* `endswith`: devuelve `True` si la cadena acaba con el sufijo indicado\n",
        "* `startswith`: devuelve `True` si la cadena empieza con el prefijo indicaco\n",
        "* `join`: usa una cadena como delimitador para unir un conjunto de cadenas\n",
        "* `find`: devuelve la posición del primer carácter de la primera ocurrencia de una subcadena dentro de una cadena\n",
        "* `rfind`: como `find` pero empezando por el final de la cadena\n",
        "* `replace`: sustituye la ocurrencia de una cadena con otra\n",
        "* `strip`: elimina espacios en blanco (y saltos de línea) antes y después de cadena\n",
        "* `upper`: convierte los caracteres de la cadena a mayúsculas"
      ]
    },
    {
      "cell_type": "code",
      "metadata": {
        "id": "5eci_pzapN7S"
      },
      "source": [
        "# Las series se alinéan por índice en las operaciones aritméticas\n",
        "\n",
        "data['NA_Sales'] + data['EU_Sales']"
      ],
      "execution_count": null,
      "outputs": []
    },
    {
      "cell_type": "markdown",
      "metadata": {
        "id": "TuP3sID2RqPu"
      },
      "source": [
        "## Filtrado"
      ]
    },
    {
      "cell_type": "code",
      "metadata": {
        "id": "sjzc52xaaTxG"
      },
      "source": [
        "# Podemos quedarnos solo con las columnas de un determinado tipo\n",
        "# También podemos excluir las que no queramos con 'exclude'\n",
        "# Si no asignamos el resultado a una variable se pierde\n",
        "\n",
        "data.select_dtypes(include=['int64', 'float64'])  # Nos quedamos solo con columnas numéricas"
      ],
      "execution_count": null,
      "outputs": []
    },
    {
      "cell_type": "code",
      "metadata": {
        "id": "cVAARPUMTUR7"
      },
      "source": [
        "# Podemos sacar una serie booleana mediante comparaciones\n",
        "\n",
        "oldies = data['Year'] < 1990\n",
        "oldies"
      ],
      "execution_count": null,
      "outputs": []
    },
    {
      "cell_type": "code",
      "metadata": {
        "id": "RkYFMAELTjPn"
      },
      "source": [
        "# Cuántos cumplen la condición\n",
        "\n",
        "oldies.sum()"
      ],
      "execution_count": null,
      "outputs": []
    },
    {
      "cell_type": "code",
      "metadata": {
        "id": "yAaJcptUUweO"
      },
      "source": [
        "# Podemos usar una serie booleana para filtrar valores de otra serie\n",
        "\n",
        "oldies_data = data[oldies]  # Solo se quedará con las filas que estén a True en 'oldies'\n",
        "oldies_data.head(10)"
      ],
      "execution_count": null,
      "outputs": []
    },
    {
      "cell_type": "code",
      "metadata": {
        "id": "-1tOsiUeTsGn"
      },
      "source": [
        "# Ventas globales solo de los videojuegos más antiguos\n",
        "\n",
        "global_sales[oldies].describe()"
      ],
      "execution_count": null,
      "outputs": []
    },
    {
      "cell_type": "code",
      "metadata": {
        "id": "5qG3lo2lU07h"
      },
      "source": [
        "# Podemos quedarnos fácilmente solo con los más recientes, negando la serie anterior\n",
        "\n",
        "global_sales[~oldies].describe()  # Ventas de los más nuevos"
      ],
      "execution_count": null,
      "outputs": []
    },
    {
      "cell_type": "code",
      "metadata": {
        "id": "spZR95li42JZ"
      },
      "source": [
        "# Se puede usar 'drop' para eliminar filas a partir de una lista de índices\n",
        "\n",
        "data.drop(data[data['Year'] < 2012].index)  # Eliminamos todos los juegos anteriores a 2012"
      ],
      "execution_count": null,
      "outputs": []
    },
    {
      "cell_type": "markdown",
      "metadata": {
        "id": "F7-kiEYT59dL"
      },
      "source": [
        "## Valores ausentes"
      ]
    },
    {
      "cell_type": "code",
      "metadata": {
        "id": "EwlT9f6s6I_X"
      },
      "source": [
        "# Cuántos datos ausentes hay en una columna\n",
        "\n",
        "data['Year'].isna().sum()  # También me vale: pd.isna(data['Year']).sum()"
      ],
      "execution_count": null,
      "outputs": []
    },
    {
      "cell_type": "code",
      "metadata": {
        "id": "xRmPc9HR6Z8e"
      },
      "source": [
        "# A la inversa, podemos ver cuántos datos no son nulos\n",
        "\n",
        "data['Year'].notna().sum()"
      ],
      "execution_count": null,
      "outputs": []
    },
    {
      "cell_type": "code",
      "metadata": {
        "id": "tIaKoRco8QtZ"
      },
      "source": [
        "# Y mejor aún, de una tacada para toda la tabla...\n",
        "\n",
        "data.isna().sum()"
      ],
      "execution_count": null,
      "outputs": []
    },
    {
      "cell_type": "code",
      "metadata": {
        "id": "DQZ0lJ9V96n5"
      },
      "source": [
        "# Podemos usar operadores booleanos para ver las filas que tienen tanto 'Year' como 'Publisher' vacíos\n",
        "\n",
        "condition = data['Year'].isna() & data['Publisher'].isna()  # Hacemos un AND\n",
        "data[condition]"
      ],
      "execution_count": null,
      "outputs": []
    },
    {
      "cell_type": "code",
      "metadata": {
        "id": "LwgqMJtG_0d8"
      },
      "source": [
        "# Hacemos lo mismo pero para ver aquellos que tienen alguno de los dos valores vacíos\n",
        "\n",
        "condition = data['Year'].isna() | data['Publisher'].isna()  # Hacemos un OR\n",
        "data[condition]"
      ],
      "execution_count": null,
      "outputs": []
    },
    {
      "cell_type": "code",
      "metadata": {
        "id": "R5ijYOTi9DLv"
      },
      "source": [
        "# Se pueden eliminar fácilmente las filas que contengan algún valor vacío\n",
        "# Si no asignamos la salida a una variable se pierde\n",
        "# Muchos métodos de Pandas admiten el parámetro \"inplace=True\" para que los cambios se guarden\n",
        "\n",
        "data.dropna()"
      ],
      "execution_count": null,
      "outputs": []
    },
    {
      "cell_type": "code",
      "metadata": {
        "id": "IWmlBd8l9Tvj"
      },
      "source": [
        "# Alternativamente, podemos eliminar las columnas que tengan algún valor vacío\n",
        "\n",
        "data.dropna(axis=1)"
      ],
      "execution_count": null,
      "outputs": []
    },
    {
      "cell_type": "code",
      "metadata": {
        "id": "IEY1xE4-gTA6"
      },
      "source": [
        "# Eliminar solo en caso de que toda la fila (o columna) sea NaN\n",
        "\n",
        "data.dropna(how='all')"
      ],
      "execution_count": null,
      "outputs": []
    },
    {
      "cell_type": "markdown",
      "metadata": {
        "id": "bbx2sxsSgx8w"
      },
      "source": [
        "## Eliminar duplicados"
      ]
    },
    {
      "cell_type": "code",
      "metadata": {
        "id": "mbfb_b7mg7OV"
      },
      "source": [
        "# Obtener una serie booleana identidicando duplicados\n",
        "\n",
        "data.duplicated().sum()"
      ],
      "execution_count": null,
      "outputs": []
    },
    {
      "cell_type": "code",
      "metadata": {
        "id": "kmhSLbe9hdf0"
      },
      "source": [
        "# Duplicados teniendo en cuenta algunas de las columnas\n",
        "\n",
        "data.duplicated(['Name', 'Year', 'Platform']).sum()"
      ],
      "execution_count": null,
      "outputs": []
    },
    {
      "cell_type": "code",
      "metadata": {
        "id": "oohS6pz7iHkQ"
      },
      "source": [
        "# Podemos usar 'drop_duplicates' para eliminar duplicados\n",
        "\n",
        "data.drop_duplicates(['Name', 'Year', 'Platform'])  # Si no ponemos nada mira todas las columnas"
      ],
      "execution_count": null,
      "outputs": []
    },
    {
      "cell_type": "markdown",
      "metadata": {
        "id": "0MWhC6_75jNf"
      },
      "source": [
        "# Referencias\n",
        "\n",
        "* [Video Game Sales](https://www.kaggle.com/gregorut/videogamesales)\n",
        "* [Working with missing data](https://pandas.pydata.org/pandas-docs/stable/user_guide/missing_data.html)"
      ]
    }
  ]
}