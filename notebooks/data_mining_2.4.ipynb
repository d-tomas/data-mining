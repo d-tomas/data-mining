{
  "nbformat": 4,
  "nbformat_minor": 0,
  "metadata": {
    "colab": {
      "provenance": [],
      "toc_visible": true,
      "authorship_tag": "ABX9TyN9HNbCSU6sdpvdiPgkipin",
      "include_colab_link": true
    },
    "kernelspec": {
      "name": "python3",
      "display_name": "Python 3"
    }
  },
  "cells": [
    {
      "cell_type": "markdown",
      "metadata": {
        "id": "view-in-github",
        "colab_type": "text"
      },
      "source": [
        "<a href=\"https://colab.research.google.com/github/d-tomas/data-mining/blob/main/notebooks/data_mining_2.4.ipynb\" target=\"_parent\"><img src=\"https://colab.research.google.com/assets/colab-badge.svg\" alt=\"Open In Colab\"/></a>"
      ]
    },
    {
      "cell_type": "markdown",
      "metadata": {
        "id": "m4QeCLc5ah2j"
      },
      "source": [
        "# Dispersión\n",
        "\n",
        "Este *notebook* explora las medidas básicas de dispersión mediante *Pandas* sobre un conjunto de datos de ventas históricas de videojuegos. Explora estadísticas descriptivas básicas, incluyendo valores mínimos y máximos, rango, cuantiles y rango intercuartílico.\n",
        "\n",
        "Además, el *notebook* utiliza métodos para discretizar datos continuos y calcular medidas de dispersión como la desviación media absoluta, la varianza y la desviación estándar para el conjunto de datos."
      ]
    },
    {
      "cell_type": "markdown",
      "metadata": {
        "id": "OnvcISE_c97V"
      },
      "source": [
        "## Pasos previos"
      ]
    },
    {
      "cell_type": "code",
      "metadata": {
        "id": "ZsKmX-5V49-2"
      },
      "source": [
        "# Importamos las librerías de Python que necesitaremos en este notebook\n",
        "\n",
        "import pandas as pd"
      ],
      "execution_count": null,
      "outputs": []
    },
    {
      "cell_type": "markdown",
      "metadata": {
        "id": "lySsq8wARNso"
      },
      "source": [
        "Vamos a trabajar con un conjunto de datos en formato CSV que contiene estadísticas sobre ventas históricas de videojuegos.\n",
        "\n",
        "Cada fila contiene la siguiente información:\n",
        "\n",
        "* `Rank`: ranking de ventas totales\n",
        "* `Name`: nombre del videojuego\n",
        "* `Platform`: plataforma en la que se publicó el juego (e.g. PC, PS4, ...)\n",
        "* `Year`: año de publicación del juego\n",
        "* `Genre`: género (e.g. acción, aventuras, ...)\n",
        "* `Publisher`: compañía distribuidora\n",
        "* `NA_Sales`: ventas en Norte América (en millones)\n",
        "* `EU_Sales`: ventas en Europa (en millones)\n",
        "* `JP_Sales`: ventas en Japón (en millones)\n",
        "* `Other_Sales`: ventas en el resto del mundo (en millones)\n",
        "* `Global_Sales`: ventas mundiales totales (en millones)"
      ]
    },
    {
      "cell_type": "code",
      "metadata": {
        "id": "B1k3VoZdV9QQ"
      },
      "source": [
        "# Obtención del fichero CSV con los datos\n",
        "\n",
        "!wget https://raw.githubusercontent.com/d-tomas/data-mining/main/datasets/video_game_sales.csv"
      ],
      "execution_count": null,
      "outputs": []
    },
    {
      "cell_type": "code",
      "metadata": {
        "id": "ANO78ZDJcFUP"
      },
      "source": [
        "# Cargamos los datos en formato CSV\n",
        "\n",
        "data = pd.read_csv('video_game_sales.csv')\n",
        "data"
      ],
      "execution_count": null,
      "outputs": []
    },
    {
      "cell_type": "markdown",
      "metadata": {
        "id": "WA9jrsu2dZ6i"
      },
      "source": [
        "## Medidas"
      ]
    },
    {
      "cell_type": "code",
      "metadata": {
        "id": "mD5sdBCNW0tn"
      },
      "source": [
        "# Valor mínimo\n",
        "\n",
        "data.min()"
      ],
      "execution_count": null,
      "outputs": []
    },
    {
      "cell_type": "code",
      "metadata": {
        "id": "Cp6cAFaUW-Tq"
      },
      "source": [
        "# Con 'argmin' podemos obtener el índice donde está el valor mínimo de una serie\n",
        "# La serie tiene que ser de valores numéricos\n",
        "\n",
        "data.iloc[data['Global_Sales'].argmin()]  # Juego con menos ventas"
      ],
      "execution_count": null,
      "outputs": []
    },
    {
      "cell_type": "code",
      "metadata": {
        "id": "tUvPijyEYH6v"
      },
      "source": [
        "# Con 'idxmin' podemos obtener los índices donde están los valores mínimos de un DataFrame\n",
        "# Las columnas deben ser todas de tipo numérico\n",
        "\n",
        "data.select_dtypes(exclude='object').idxmin()  # Nos quedamos solo con columnas numéricas"
      ],
      "execution_count": null,
      "outputs": []
    },
    {
      "cell_type": "code",
      "metadata": {
        "id": "_Zaw_kBpW5V0"
      },
      "source": [
        "# Valor máximo\n",
        "\n",
        "data.max()"
      ],
      "execution_count": null,
      "outputs": []
    },
    {
      "cell_type": "code",
      "metadata": {
        "id": "4z9rXNh4Xsbi"
      },
      "source": [
        "# Con 'argmax' podemos obtener el índice donde está el valor máximo de una serie\n",
        "\n",
        "data.iloc[data['Year'].argmax()]  # Juego más reciente"
      ],
      "execution_count": null,
      "outputs": []
    },
    {
      "cell_type": "code",
      "metadata": {
        "id": "CnxhibeLbIaU"
      },
      "source": [
        "# Con 'idxmax' podemos obtener el índice donde están los valores máximos de un DataFrame\n",
        "\n",
        "data.select_dtypes(exclude='object').idxmax()  # Nos quedamos solo con columnas numéricas"
      ],
      "execution_count": null,
      "outputs": []
    },
    {
      "cell_type": "code",
      "metadata": {
        "id": "UYDmc-A4W4v_"
      },
      "source": [
        "# Rango de años\n",
        "\n",
        "data['Year'].max() - data['Year'].min()"
      ],
      "execution_count": null,
      "outputs": []
    },
    {
      "cell_type": "code",
      "metadata": {
        "id": "jluOwSNQJDrm"
      },
      "source": [
        "# Rango de ventas en Europa\n",
        "\n",
        "data['EU_Sales'].max() - data['EU_Sales'].min()"
      ],
      "execution_count": null,
      "outputs": []
    },
    {
      "cell_type": "code",
      "metadata": {
        "id": "H1UJ-9Z7gHlT"
      },
      "source": [
        "# Cuantiles\n",
        "\n",
        "data.quantile([0.2, 0.4, 0.6, 0.8])  # Quintiles"
      ],
      "execution_count": null,
      "outputs": []
    },
    {
      "cell_type": "code",
      "metadata": {
        "id": "vlLcqNd3IzSB"
      },
      "source": [
        "# Rango intercuartílico de ventas globales\n",
        "\n",
        "data['Global_Sales'].quantile(0.75) - data['Global_Sales'].quantile(0.25)"
      ],
      "execution_count": null,
      "outputs": []
    },
    {
      "cell_type": "code",
      "metadata": {
        "id": "rtN-SDmYmu2D"
      },
      "source": [
        "# Podemos definir intervalos para discretizar datos continuos\n",
        "\n",
        "bins = [0, 30, 60, 90]\n",
        "pd.cut(data['Global_Sales'], bins)"
      ],
      "execution_count": null,
      "outputs": []
    },
    {
      "cell_type": "code",
      "metadata": {
        "id": "oKzH5YC-qXJn"
      },
      "source": [
        "# Se pueden asignar etiquetas a cada uno de los intervalos\n",
        "\n",
        "sale_intervals = pd.cut(data['Global_Sales'], bins, labels=['Low', 'Medium', 'High'])\n",
        "sale_intervals"
      ],
      "execution_count": null,
      "outputs": []
    },
    {
      "cell_type": "code",
      "metadata": {
        "id": "rGxvqvfUp3S3"
      },
      "source": [
        "# Cuántos entran en cada categoría\n",
        "\n",
        "sale_intervals.value_counts()"
      ],
      "execution_count": null,
      "outputs": []
    },
    {
      "cell_type": "code",
      "metadata": {
        "id": "s_xwgUCnrVyT"
      },
      "source": [
        "# Podemos decirle que nos calcule intervalos del mismo tamaño\n",
        "\n",
        "sale_intervals = pd.cut(data['Global_Sales'], 5, precision=2)  # Calcula 5 intervalos con una precisión de 2 decimales\n",
        "sale_intervals"
      ],
      "execution_count": null,
      "outputs": []
    },
    {
      "cell_type": "code",
      "metadata": {
        "id": "HIpUetmSs6hg"
      },
      "source": [
        "# Seguimos teniendo intervalos con un número de muestra muy dispar\n",
        "\n",
        "sale_intervals.value_counts()"
      ],
      "execution_count": null,
      "outputs": []
    },
    {
      "cell_type": "code",
      "metadata": {
        "id": "5HlxaGA-sCwd"
      },
      "source": [
        "# Podemos usar 'qcut' si queremos tener (aproximadamente) las mismas muestras en cada intervalo\n",
        "\n",
        "sale_intervals = pd.qcut(data['Global_Sales'], 5, precision=2)\n",
        "sale_intervals"
      ],
      "execution_count": null,
      "outputs": []
    },
    {
      "cell_type": "code",
      "metadata": {
        "id": "tdbTC_9ctRfs"
      },
      "source": [
        "# Ahora la distribución es más similar\n",
        "\n",
        "sale_intervals.value_counts()"
      ],
      "execution_count": null,
      "outputs": []
    },
    {
      "cell_type": "code",
      "metadata": {
        "id": "GTMmULrddU5N"
      },
      "source": [
        "# Desviación media (Mean Absolute Deviation)\n",
        "# Distancia promedio entre cada punto y la media\n",
        "\n",
        "data.mad()"
      ],
      "execution_count": null,
      "outputs": []
    },
    {
      "cell_type": "code",
      "metadata": {
        "id": "fqciQ7WHegcX"
      },
      "source": [
        "# Varianza\n",
        "\n",
        "data.var()"
      ],
      "execution_count": null,
      "outputs": []
    },
    {
      "cell_type": "code",
      "metadata": {
        "id": "o_9WweowekuJ"
      },
      "source": [
        "# Desviación estándar\n",
        "\n",
        "data.std()"
      ],
      "execution_count": null,
      "outputs": []
    },
    {
      "cell_type": "markdown",
      "metadata": {
        "id": "27Z1FvxtiZ0k"
      },
      "source": [
        "# Referencias\n",
        "\n",
        "* [Video Game Sales](https://www.kaggle.com/gregorut/videogamesales)\n",
        "* \"*Python for Data Analysis*\", Wes McKinney (2017)\n",
        "* \"*Data Mining: Concepts and Techniques*\", Jiawei Han et al. (2011)"
      ]
    }
  ]
}