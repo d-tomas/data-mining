{
  "nbformat": 4,
  "nbformat_minor": 0,
  "metadata": {
    "colab": {
      "name": "data_mining_4.1.ipynb",
      "private_outputs": true,
      "provenance": [],
      "collapsed_sections": [],
      "toc_visible": true,
      "include_colab_link": true
    },
    "kernelspec": {
      "name": "python3",
      "display_name": "Python 3"
    }
  },
  "cells": [
    {
      "cell_type": "markdown",
      "metadata": {
        "id": "view-in-github",
        "colab_type": "text"
      },
      "source": [
        "<a href=\"https://colab.research.google.com/github/d-tomas/data-mining/blob/main/notebooks/data_mining_4.1.ipynb\" target=\"_parent\"><img src=\"https://colab.research.google.com/assets/colab-badge.svg\" alt=\"Open In Colab\"/></a>"
      ]
    },
    {
      "cell_type": "markdown",
      "metadata": {
        "id": "pyQGemqcxzDi"
      },
      "source": [
        "# Selección de características"
      ]
    },
    {
      "cell_type": "markdown",
      "metadata": {
        "id": "OnvcISE_c97V"
      },
      "source": [
        "## Pasos previos"
      ]
    },
    {
      "cell_type": "code",
      "metadata": {
        "id": "ZsKmX-5V49-2"
      },
      "source": [
        "# Importamos las librerías de Python que necesitaremos en este notebook\n",
        "\n",
        "import matplotlib.pyplot as plt\n",
        "import numpy as np\n",
        "import pandas as pd\n",
        "import seaborn as sns\n",
        "from sklearn.feature_selection import VarianceThreshold\n",
        "\n",
        "pd.options.mode.chained_assignment = None  # Evitamos warnings indeseados"
      ],
      "execution_count": null,
      "outputs": []
    },
    {
      "cell_type": "markdown",
      "metadata": {
        "id": "lySsq8wARNso"
      },
      "source": [
        "Vamos a trabajar de nuevo con dos conjuntos de datos en formato CSV\n",
        "\n",
        "* `pokemon.csv`: contiene 41 características de cada uno de los 802 Pokemon desde la generación 1 hasta la 7\n",
        "* `ansur_ii.csv`: *Anthropometric Survey of US Army Personnel* contiene 93 medidas corporales realizadas a 6.068 adultos (4.082 hombres y 1.986 mujeres)\n"
      ]
    },
    {
      "cell_type": "code",
      "metadata": {
        "id": "B1k3VoZdV9QQ"
      },
      "source": [
        "# Obtención de los ficheros CSV con los datos\n",
        "\n",
        "!wget https://raw.githubusercontent.com/d-tomas/data-mining/main/datasets/pokemon.csv\n",
        "!wget https://raw.githubusercontent.com/d-tomas/data-mining/main/datasets/ansur_ii.csv"
      ],
      "execution_count": null,
      "outputs": []
    },
    {
      "cell_type": "code",
      "metadata": {
        "id": "ANO78ZDJcFUP"
      },
      "source": [
        "# Cargamos los datos de Pokemon en formato CSV\n",
        "\n",
        "data_pokemon = pd.read_csv('pokemon.csv')\n",
        "data_pokemon"
      ],
      "execution_count": null,
      "outputs": []
    },
    {
      "cell_type": "code",
      "metadata": {
        "id": "F8xJpHrLdgXm"
      },
      "source": [
        "# Cargamos los datos de ANSUR II en formato CSV\n",
        "\n",
        "data_ansur = pd.read_csv('ansur_ii.csv')\n",
        "data_ansur"
      ],
      "execution_count": null,
      "outputs": []
    },
    {
      "cell_type": "markdown",
      "metadata": {
        "id": "5EPMc3EIQZB_"
      },
      "source": [
        "## Selección por varianza"
      ]
    },
    {
      "cell_type": "code",
      "metadata": {
        "id": "5VAp8ZgwWlIY"
      },
      "source": [
        "# Nos quedamos con un subconjunto de las columnas y las filas para estos ejemplos\n",
        "\n",
        "data_pokemon = data_pokemon[data_pokemon['generation'] == 1][['name', 'type1', 'type2', 'hp', 'attack', 'defense', 'speed', 'generation']]"
      ],
      "execution_count": null,
      "outputs": []
    },
    {
      "cell_type": "code",
      "metadata": {
        "id": "WxU1GwMSu6z9"
      },
      "source": [
        "# Las columnas con poca varianza tienen poca diferencia entre observaciones y no son útiles para el análisis\n",
        "# Podemos usar 'describe' para ver columnas con poca varianza\n",
        "\n",
        "data_pokemon.describe()  # Nos interesa el mínimo, máximo y la desviación estándar"
      ],
      "execution_count": null,
      "outputs": []
    },
    {
      "cell_type": "code",
      "metadata": {
        "id": "9BA4Ff2pbspq"
      },
      "source": [
        "# Las columnas que tengan todos los datos iguales (sin varianza) se pueden eliminar\n",
        "# En este ejemplo, la columna 'generation'\n",
        "\n",
        "data_pokemon.drop('generation', axis=1, inplace=True)  # Utilizamos 'drop' para eliminar columnas\n",
        "data_pokemon"
      ],
      "execution_count": null,
      "outputs": []
    },
    {
      "cell_type": "code",
      "metadata": {
        "id": "ODu0HUlU-C4Z"
      },
      "source": [
        "# Vemos otros ejemplos, ahora con el conjunto de datos de ANSUR II\n",
        "# Miramos la forma que tiene el dataset con 'shape'\n",
        "\n",
        "data_ansur.shape"
      ],
      "execution_count": null,
      "outputs": []
    },
    {
      "cell_type": "code",
      "metadata": {
        "id": "l8zp6ZSBGVo9"
      },
      "source": [
        "# Para aplicar las técnicas siguientes nos quedamos solo con las columnas numéricas\n",
        "\n",
        "data_ansur_num = data_ansur.select_dtypes(exclude='object')\n",
        "data_ansur_num.shape"
      ],
      "execution_count": null,
      "outputs": []
    },
    {
      "cell_type": "code",
      "metadata": {
        "id": "HU6CkDKP-Kd_"
      },
      "source": [
        "# Podemos usar 'VarianceThreshold' para eliminar características en función de su varianza\n",
        "# Por defecto mantienen todas las características con varianza distinta de 0\n",
        "\n",
        "selector = VarianceThreshold(threshold=1)  # Elimina aquellas con varianza por debajo de 'threshold'\n",
        "selector.fit(data_ansur_num)  # Analiza las varianzas del DataFrame\n",
        "mask = selector.get_support()  # Devuelve una serie booleana con las características seleccionadas\n",
        "mask"
      ],
      "execution_count": null,
      "outputs": []
    },
    {
      "cell_type": "code",
      "metadata": {
        "id": "fuYMobhrGEhN"
      },
      "source": [
        "# Podemos aplicar la máscara con 'loc' y descartar las columnas afectadas\n",
        "# En este ejemplo solo se ha reducido una columna\n",
        "\n",
        "data_ansur_num = data_ansur_num.loc[:, mask]\n",
        "data_ansur_num.shape"
      ],
      "execution_count": null,
      "outputs": []
    },
    {
      "cell_type": "code",
      "metadata": {
        "id": "I144ERlRIuYO"
      },
      "source": [
        "# Si queremos ver las columnas que se han eliminado\n",
        "\n",
        "data_ansur_num.loc[:,~mask].columns  # DODRace = Department of Defense Race (1=whie, 2=black, 3=hispanic, ...)"
      ],
      "execution_count": null,
      "outputs": []
    },
    {
      "cell_type": "code",
      "metadata": {
        "id": "dJ28ZVm-KVF5"
      },
      "source": [
        "# Vamos a ver un nuevo ejemplo\n",
        "# Seleccionamos un conjunto de características relacionadas con el tamaño del culo :-P\n",
        "\n",
        "data_buttocks = data_ansur[['buttockdepth', 'buttockpopliteallength', 'buttockkneelength', 'buttockheight', 'buttockcircumference']]\n",
        "data_buttocks"
      ],
      "execution_count": null,
      "outputs": []
    },
    {
      "cell_type": "code",
      "metadata": {
        "id": "GxksIizoMjVG"
      },
      "source": [
        "# Visualizamos con un diagrama de caja el DataFrame anterior\n",
        "# A mayores valores se aprecia más dispersión\n",
        "\n",
        "plt.figure(figsize=(10, 8))\n",
        "sns.boxplot(data=data_buttocks)\n",
        "plt.xlabel('Característica')\n",
        "plt.ylabel('Longitud (mm)')\n",
        "plt.show()"
      ],
      "execution_count": null,
      "outputs": []
    },
    {
      "cell_type": "code",
      "metadata": {
        "id": "zlbP2QjDPVxV"
      },
      "source": [
        "# La varianza no es fácil de interpretar o comparar entre características\n",
        "# Deben normalizarse las varianzas antes de usarlas para seleccionar características\n",
        "# Después de la normalización, la varianza en el dataset será menor (debemos reducir el umbral de varianza)\n",
        "\n",
        "selector = VarianceThreshold(threshold=0.005)  # Hay que inspeccionar bien los datos para fijar este umbral\n",
        "selector.fit(data_ansur_num/data_ansur_num.mean())  # Para normalizar valores dividimos cada columna por su valor medio\n",
        "mask = selector.get_support()\n",
        "data_ansur_num.loc[:, mask].shape"
      ],
      "execution_count": null,
      "outputs": []
    },
    {
      "cell_type": "markdown",
      "metadata": {
        "id": "_puu-P4bv53l"
      },
      "source": [
        "## Selección por valores ausentes"
      ]
    },
    {
      "cell_type": "code",
      "metadata": {
        "id": "nzzAuftviV0D"
      },
      "source": [
        "# Otra razón para eliminar una característica es que contenga muchos valores ausentes (NaN)\n",
        "# Podemos inspeccionar esta situación con 'isna'\n",
        "\n",
        "data_pokemon.isna()"
      ],
      "execution_count": null,
      "outputs": []
    },
    {
      "cell_type": "code",
      "metadata": {
        "id": "cg50vBlOiuP0"
      },
      "source": [
        "# Podemos obtener el número total de valores ausentes sumando el resultado de 'isna'\n",
        "\n",
        "data_pokemon.isna().sum()"
      ],
      "execution_count": null,
      "outputs": []
    },
    {
      "cell_type": "code",
      "metadata": {
        "id": "ZYN36fTojSyJ"
      },
      "source": [
        "# Para tener una idea más clara de cuántos valores ausentes tenemos, podemos calcular su ratio\n",
        "\n",
        "data_pokemon.isna().sum() / len(data_pokemon)  # Porcentaje de valores ausentes por columna"
      ],
      "execution_count": null,
      "outputs": []
    },
    {
      "cell_type": "code",
      "metadata": {
        "id": "s53m03Rqjiq8"
      },
      "source": [
        "# Se puede crear una máscara que elimine columnas con un porcentaje determinado de valores ausentes\n",
        "\n",
        "mask = data_pokemon.isna().sum() / len(data_pokemon) < 0.4  # Será True si tiene menos del 40% de valores ausentes\n",
        "mask"
      ],
      "execution_count": null,
      "outputs": []
    },
    {
      "cell_type": "code",
      "metadata": {
        "id": "y-HLR3Bmj7ky"
      },
      "source": [
        "# Aplicamos la máscara al conjunto de datos con 'loc'\n",
        "\n",
        "data_pokemon = data_pokemon.loc[:, mask]  # Nos quedamos con todas las filas, y con las columnas a True\n",
        "data_pokemon"
      ],
      "execution_count": null,
      "outputs": []
    },
    {
      "cell_type": "markdown",
      "metadata": {
        "id": "x8JAYxXdy7oB"
      },
      "source": [
        "## Selección mediante visualización"
      ]
    },
    {
      "cell_type": "code",
      "metadata": {
        "id": "jvXtKIlGmf96"
      },
      "source": [
        "# La matriz de dispersión proporciona una comparación uno a uno de cada variable numérica del conjunto\n",
        "\n",
        "sns.pairplot(data=data_ansur[['Weightlbs', 'weightkg', 'Heightin', 'Gender']], diag_kind='hist', hue='Gender')\n",
        "plt.show()"
      ],
      "execution_count": null,
      "outputs": []
    },
    {
      "cell_type": "markdown",
      "metadata": {
        "id": "mjikHYxOz1gX"
      },
      "source": [
        "## Selección por correlación"
      ]
    },
    {
      "cell_type": "code",
      "metadata": {
        "id": "G8ZBoZ3RSKau"
      },
      "source": [
        "# Para cuantificar la correlación de manera más precisa podemos usar medidas de correlación\n",
        "\n",
        "plt.figure(figsize=(10, 8))\n",
        "sns.heatmap(data=data_ansur[['Weightlbs', 'weightkg', 'Heightin']].corr(), annot=True, linewidth=3, cmap='Blues')\n",
        "plt.show()"
      ],
      "execution_count": null,
      "outputs": []
    },
    {
      "cell_type": "code",
      "metadata": {
        "id": "lgOcN2iF9rXL"
      },
      "source": [
        "# Podemos eliminar la parte superior del mapa de calor para evitar información duplicada\n",
        "# El método 'ones_like' crea una matriz con valores True y las mismas dimensiones que la matriz de correlación\n",
        "# El método 'triu' (triangle upper function) pone a False todos los valores que queden por debajo de la diagonal\n",
        "\n",
        "plt.figure(figsize=(10, 8))\n",
        "mask_heatmap = np.triu(np.ones_like(data_ansur[['Weightlbs', 'weightkg', 'Heightin']].corr(), dtype=bool))\n",
        "sns.heatmap(data=data_ansur[['Weightlbs', 'weightkg', 'Heightin']].corr(), annot=True, linewidth=3, cmap='Blues', mask=mask_heatmap)\n",
        "plt.show()"
      ],
      "execution_count": null,
      "outputs": []
    },
    {
      "cell_type": "code",
      "metadata": {
        "id": "9fRmyQbAVbrF"
      },
      "source": [
        "# Vemos otro ejemplo con medidas relacionadas con el tamaño del pecho\n",
        "# En este caso 'chestheight' no está correlacionado con 'hipbreadthsitting', pero sí con suprasternaleheight'\n",
        "\n",
        "plt.figure(figsize=(10, 8))\n",
        "mask_heatmap = np.triu(np.ones_like(data_ansur[['earprotrusion', 'hipbreadthsitting', 'chestheight', 'suprasternaleheight', 'chestcircumference']].corr(), dtype=bool))\n",
        "sns.heatmap(data=data_ansur[['earprotrusion', 'hipbreadthsitting', 'chestheight', 'suprasternaleheight', 'chestcircumference']].corr(), annot=True, linewidth=3, cmap='Blues', mask=mask_heatmap)\n",
        "plt.show()"
      ],
      "execution_count": null,
      "outputs": []
    },
    {
      "cell_type": "code",
      "metadata": {
        "id": "Czah1UYBWzb-"
      },
      "source": [
        "# Miramos otro ejemplo con varios huesos de la región del pecho\n",
        "# Tiene sentido quedarse solo con 'cervicaleheight' o 'suprasternaleheight'\n",
        "# Ambos son huesos de la misma región (pecho) y es normal que tengan tamaños relacionados\n",
        "# El conocimiento del dominio (médico) es importante aquí\n",
        "\n",
        "sns.pairplot(data=data_ansur[['suprasternaleheight', 'cervicaleheight', 'chestheight']], diag_kind='hist')\n",
        "plt.show()"
      ],
      "execution_count": null,
      "outputs": []
    },
    {
      "cell_type": "code",
      "metadata": {
        "id": "H4ANZFq0X5sH"
      },
      "source": [
        "# Repetimos el análisis anterior pero usando un mapa de calor\n",
        "\n",
        "plt.figure(figsize=(10, 8))\n",
        "mask_heatmap = np.triu(np.ones_like(data_ansur[['suprasternaleheight', 'cervicaleheight', 'chestheight']].corr(), dtype=bool))\n",
        "sns.heatmap(data=data_ansur[['suprasternaleheight', 'cervicaleheight', 'chestheight']].corr(), annot=True, linewidth=3, cmap='Blues', mask=mask_heatmap)\n",
        "plt.show()"
      ],
      "execution_count": null,
      "outputs": []
    },
    {
      "cell_type": "code",
      "metadata": {
        "id": "NJ3-A1OMYQuh"
      },
      "source": [
        "# Se pueden filtrar variables usando un umbral de correlación\n",
        "# Debes hacerlo solo si tienes confianza en que eliminar características que están muy correlacionadas no te va a hacer perder mucha información\n",
        "# Miramos el valor absoluto de la correlación (abs) para descartar también correlaciones negativas altas\n",
        "\n",
        "data_ansur_correlation = data_ansur[['suprasternaleheight', 'cervicaleheight', 'chestheight']].corr().abs()\n",
        "mask = np.triu(np.ones_like(data_ansur_correlation, dtype=bool))\n",
        "data_ansur_masked = data_ansur_correlation.mask(mask)  # Pone a NaN todo lo que aparezca como True en la máscara\n",
        "data_ansur_masked"
      ],
      "execution_count": null,
      "outputs": []
    },
    {
      "cell_type": "code",
      "metadata": {
        "id": "8ZiP8FAyaiyT"
      },
      "source": [
        "# Podemos buscar todas las columnas que tienen algún valor de correlación por encima de un umbral\n",
        "# Lo hacemos con la parte inferior de la matriz (data_ansur_masked) para evitar que se eliminen ambas características\n",
        "\n",
        "columns_to_drop = [c for c in data_ansur_masked.columns if any(data_ansur_masked[c] > 0.95)]\n",
        "data_ansur.drop(columns_to_drop, axis=1).shape"
      ],
      "execution_count": null,
      "outputs": []
    },
    {
      "cell_type": "markdown",
      "metadata": {
        "id": "Pf3KSjzscgIT"
      },
      "source": [
        "# Referencias\n",
        "\n",
        "* [The Complete Pokemon Dataset](https://www.kaggle.com/rounakbanik/pokemon)\n",
        "* [ANSUR II](https://www.kaggle.com/seshadrikolluri/ansur-ii)\n",
        "* [Características de ANSUR II explicadas](http://tools.openlab.psu.edu/publicData/ANSURII-MFR.pdf)"
      ]
    }
  ]
}